{
 "cells": [
  {
   "cell_type": "markdown",
   "metadata": {},
   "source": [
    "# Problem Set 2, due September 18 at 11:59pm"
   ]
  },
  {
   "cell_type": "markdown",
   "metadata": {},
   "source": [
    "## Introduction to the assignment\n",
    "\n",
    "For this assignment, you will be using data from the [Progresa program](http://en.wikipedia.org/wiki/Oportunidades), a government social assistance program in Mexico. This program, as well as the details of its impact, are described in the paper \"[School subsidies for the poor: evaluating the Mexican Progresa poverty program](http://www.sciencedirect.com/science/article/pii/S0304387803001858)\", by Paul Shultz (available on bCourses). Please familiarize yourself with the PROGRESA program before beginning this problem set, so you have a rough sense of where the data come from and how they were generated. If you just proceed into the problem set without understanding Progresa or the data, it will be very difficult!\n",
    "\n",
    "The goal of this problem set is to implement some of the basic econometric techniques that you are learning in class to measure the impact of Progresa on secondary school enrollment rates. The timeline of the program was:\n",
    "\n",
    " * Baseline survey conducted in 1997\n",
    " * Intervention begins in 1998, \"Wave 1\" of data collected in 1998\n",
    " * \"Wave 2 of data\" collected in 1999\n",
    " * Evaluation ends in 2000, at which point the control villages were treated. \n",
    " \n",
    "When you are ready, download the progresa_sample.csv data from bCourses. The data are actual data collected to evaluate the impact of the Progresa program.  In this file, each row corresponds to an observation taken for a given child for a given year. There are two years of data (1997 and 1998), and just under 40,000 children who are surveyed in each year. For each child-year observation, the following variables are collected:\n",
    "\n",
    "| Variable name | Description|\n",
    "|------|------|\n",
    "|year\t  |year in which data is collected\n",
    "|sex\t  |male = 1|\n",
    "|indig\t  |indigenous = 1|\n",
    "|dist_sec |nearest distance to a secondary school|\n",
    "|sc\t      |enrolled in school in year of survey|\n",
    "|grc      |grade enrolled|\n",
    "|fam_n    |family size|\n",
    "|min_dist |\tmin distance to an urban center|\n",
    "|dist_cap |\tmin distance to the capital|\n",
    "|poor     |\tpoor = 1|\n",
    "|progresa |treatment =1|\n",
    "|hohedu\t  |years of schooling of head of household|\n",
    "|hohwag\t  |monthly wages of head of household|\n",
    "|welfare_index|\twelfare index used to classify poor|\n",
    "|hohsex\t|gender of head of household (male=1)|\n",
    "|hohage\t|age of head of household|\n",
    "|age\t|years old|\n",
    "|folnum\t|individual id|\n",
    "|village|\tvillage id|\n",
    "|sc97\t|schooling in 1997|"
   ]
  },
  {
   "cell_type": "markdown",
   "metadata": {},
   "source": [
    "---\n",
    "\n",
    "## Part 1: Descriptive analysis\n",
    "\n",
    "### 1.1\tSummary Statistics\n",
    "\n",
    "Present summary statistics (mean and standard deviation) for all of the demographic variables in the dataset (i.e., everything except year, folnum, village). Present these in a single table alphabetized by variable name. Do NOT simply expect the grader to scroll through your output!"
   ]
  },
  {
   "cell_type": "code",
   "execution_count": 21,
   "metadata": {
    "collapsed": false
   },
   "outputs": [],
   "source": [
    "# your code here\n",
    "import math\n",
    "import pandas as pd\n",
    "import numpy as np\n",
    "import scipy as sp\n",
    "from scipy import stats\n",
    "import sklearn as sk\n",
    "from sklearn import linear_model\n",
    "import matplotlib\n",
    "import matplotlib.pyplot as plt\n",
    "import statsmodels.formula.api as smf"
   ]
  },
  {
   "cell_type": "code",
   "execution_count": 22,
   "metadata": {
    "collapsed": false
   },
   "outputs": [
    {
     "data": {
      "text/html": [
       "<div>\n",
       "<table border=\"1\" class=\"dataframe\">\n",
       "  <thead>\n",
       "    <tr style=\"text-align: right;\">\n",
       "      <th></th>\n",
       "      <th>mean</th>\n",
       "      <th>std deviation</th>\n",
       "    </tr>\n",
       "  </thead>\n",
       "  <tbody>\n",
       "    <tr>\n",
       "      <th>age</th>\n",
       "      <td>11.366460</td>\n",
       "      <td>3.167744</td>\n",
       "    </tr>\n",
       "    <tr>\n",
       "      <th>dist_cap</th>\n",
       "      <td>147.674452</td>\n",
       "      <td>76.063134</td>\n",
       "    </tr>\n",
       "    <tr>\n",
       "      <th>dist_sec</th>\n",
       "      <td>2.418910</td>\n",
       "      <td>2.234109</td>\n",
       "    </tr>\n",
       "    <tr>\n",
       "      <th>fam_n</th>\n",
       "      <td>7.215715</td>\n",
       "      <td>2.352900</td>\n",
       "    </tr>\n",
       "    <tr>\n",
       "      <th>grc</th>\n",
       "      <td>3.963537</td>\n",
       "      <td>2.499063</td>\n",
       "    </tr>\n",
       "    <tr>\n",
       "      <th>grc97</th>\n",
       "      <td>3.705372</td>\n",
       "      <td>2.572387</td>\n",
       "    </tr>\n",
       "    <tr>\n",
       "      <th>hohage</th>\n",
       "      <td>44.436717</td>\n",
       "      <td>11.620372</td>\n",
       "    </tr>\n",
       "    <tr>\n",
       "      <th>hohedu</th>\n",
       "      <td>2.768104</td>\n",
       "      <td>2.656106</td>\n",
       "    </tr>\n",
       "    <tr>\n",
       "      <th>hohsex</th>\n",
       "      <td>0.925185</td>\n",
       "      <td>0.263095</td>\n",
       "    </tr>\n",
       "    <tr>\n",
       "      <th>hohwag</th>\n",
       "      <td>586.985312</td>\n",
       "      <td>788.133664</td>\n",
       "    </tr>\n",
       "    <tr>\n",
       "      <th>indig</th>\n",
       "      <td>0.298324</td>\n",
       "      <td>0.457525</td>\n",
       "    </tr>\n",
       "    <tr>\n",
       "      <th>min_dist</th>\n",
       "      <td>103.447520</td>\n",
       "      <td>42.089441</td>\n",
       "    </tr>\n",
       "    <tr>\n",
       "      <th>sc</th>\n",
       "      <td>0.819818</td>\n",
       "      <td>0.384342</td>\n",
       "    </tr>\n",
       "    <tr>\n",
       "      <th>sc97</th>\n",
       "      <td>0.813922</td>\n",
       "      <td>0.389172</td>\n",
       "    </tr>\n",
       "    <tr>\n",
       "      <th>sex</th>\n",
       "      <td>0.512211</td>\n",
       "      <td>0.499854</td>\n",
       "    </tr>\n",
       "    <tr>\n",
       "      <th>welfare_index</th>\n",
       "      <td>690.346564</td>\n",
       "      <td>139.491130</td>\n",
       "    </tr>\n",
       "  </tbody>\n",
       "</table>\n",
       "</div>"
      ],
      "text/plain": [
       "                     mean  std deviation\n",
       "age             11.366460       3.167744\n",
       "dist_cap       147.674452      76.063134\n",
       "dist_sec         2.418910       2.234109\n",
       "fam_n            7.215715       2.352900\n",
       "grc              3.963537       2.499063\n",
       "grc97            3.705372       2.572387\n",
       "hohage          44.436717      11.620372\n",
       "hohedu           2.768104       2.656106\n",
       "hohsex           0.925185       0.263095\n",
       "hohwag         586.985312     788.133664\n",
       "indig            0.298324       0.457525\n",
       "min_dist       103.447520      42.089441\n",
       "sc               0.819818       0.384342\n",
       "sc97             0.813922       0.389172\n",
       "sex              0.512211       0.499854\n",
       "welfare_index  690.346564     139.491130"
      ]
     },
     "execution_count": 22,
     "metadata": {},
     "output_type": "execute_result"
    }
   ],
   "source": [
    "\n",
    "\n",
    "filename = \"progresa_sample.csv\"\n",
    "data = pd.read_csv(filename,header=0)\n",
    "list_to_use = ['mean','std']\n",
    "SummaryStats = data.describe().transpose().sort_index()[list_to_use]\n",
    "col_to_drop = ['year','folnum','village']\n",
    "col_to_keep = list(set(SummaryStats.index) - set(col_to_drop))\n",
    "\n",
    "SummaryStats = SummaryStats.rename(columns={'std': 'std deviation'})\n",
    "SummaryStats[SummaryStats.index.isin(col_to_keep)]\n",
    "\n",
    "#there are some columns missing, these are columns that contain text values where a mean and std deviation does not make sense."
   ]
  },
  {
   "cell_type": "markdown",
   "metadata": {},
   "source": [
    "### 1.2 Differences at baseline?\n",
    "\n",
    "Are the baseline (1997) demographic characteristics **for the poor**  different in treatment and control villages? Hint: Use a T-Test to determine whether there is a statistically significant difference in the average values of each of the variables in the dataset. Focus only on the data from 1997 for individuals who are poor (i.e., poor=='pobre').\n",
    "\n",
    "Present your results in a single table with the following columns and 14 (or so) rows (alphabetized by variable name):\n",
    "\n",
    "| Variable name | Average value (Treatment villages) | Average value (Control villages) | Difference (Treat - Control) | p-value |\n",
    "|------|------|------|------|------|\n",
    "|Male|?|?|?|?|\n"
   ]
  },
  {
   "cell_type": "code",
   "execution_count": 23,
   "metadata": {
    "collapsed": false
   },
   "outputs": [
    {
     "data": {
      "text/html": [
       "<div>\n",
       "<table border=\"1\" class=\"dataframe\">\n",
       "  <thead>\n",
       "    <tr style=\"text-align: right;\">\n",
       "      <th></th>\n",
       "      <th>Variable Name</th>\n",
       "      <th>Average value (Treatment villages)</th>\n",
       "      <th>Average value (Control villages)</th>\n",
       "      <th>Difference (Treat - Control)</th>\n",
       "      <th>p-value</th>\n",
       "    </tr>\n",
       "  </thead>\n",
       "  <tbody>\n",
       "    <tr>\n",
       "      <th>0</th>\n",
       "      <td>age</td>\n",
       "      <td>10.716991</td>\n",
       "      <td>10.742023</td>\n",
       "      <td>-0.025032</td>\n",
       "      <td>4.783633e-01</td>\n",
       "    </tr>\n",
       "    <tr>\n",
       "      <th>1</th>\n",
       "      <td>dist_cap</td>\n",
       "      <td>150.829074</td>\n",
       "      <td>153.769730</td>\n",
       "      <td>-2.940656</td>\n",
       "      <td>1.146482e-03</td>\n",
       "    </tr>\n",
       "    <tr>\n",
       "      <th>2</th>\n",
       "      <td>dist_sec</td>\n",
       "      <td>2.453122</td>\n",
       "      <td>2.507662</td>\n",
       "      <td>-0.054540</td>\n",
       "      <td>4.266282e-02</td>\n",
       "    </tr>\n",
       "    <tr>\n",
       "      <th>3</th>\n",
       "      <td>fam_n</td>\n",
       "      <td>7.281327</td>\n",
       "      <td>7.302469</td>\n",
       "      <td>-0.021142</td>\n",
       "      <td>4.289667e-01</td>\n",
       "    </tr>\n",
       "    <tr>\n",
       "      <th>4</th>\n",
       "      <td>grc</td>\n",
       "      <td>3.531599</td>\n",
       "      <td>3.543050</td>\n",
       "      <td>-0.011450</td>\n",
       "      <td>6.895228e-01</td>\n",
       "    </tr>\n",
       "    <tr>\n",
       "      <th>5</th>\n",
       "      <td>grc97</td>\n",
       "      <td>3.531599</td>\n",
       "      <td>3.543050</td>\n",
       "      <td>-0.011450</td>\n",
       "      <td>6.895228e-01</td>\n",
       "    </tr>\n",
       "    <tr>\n",
       "      <th>6</th>\n",
       "      <td>hohage</td>\n",
       "      <td>43.648828</td>\n",
       "      <td>44.276918</td>\n",
       "      <td>-0.628090</td>\n",
       "      <td>2.259461e-06</td>\n",
       "    </tr>\n",
       "    <tr>\n",
       "      <th>7</th>\n",
       "      <td>hohedu</td>\n",
       "      <td>2.663139</td>\n",
       "      <td>2.590348</td>\n",
       "      <td>0.072791</td>\n",
       "      <td>1.038219e-02</td>\n",
       "    </tr>\n",
       "    <tr>\n",
       "      <th>8</th>\n",
       "      <td>hohsex</td>\n",
       "      <td>0.924656</td>\n",
       "      <td>0.922947</td>\n",
       "      <td>0.001709</td>\n",
       "      <td>5.721253e-01</td>\n",
       "    </tr>\n",
       "    <tr>\n",
       "      <th>9</th>\n",
       "      <td>hohwag</td>\n",
       "      <td>544.339544</td>\n",
       "      <td>573.163558</td>\n",
       "      <td>-28.824015</td>\n",
       "      <td>3.287285e-04</td>\n",
       "    </tr>\n",
       "    <tr>\n",
       "      <th>10</th>\n",
       "      <td>indig</td>\n",
       "      <td>0.325986</td>\n",
       "      <td>0.332207</td>\n",
       "      <td>-0.006222</td>\n",
       "      <td>2.459021e-01</td>\n",
       "    </tr>\n",
       "    <tr>\n",
       "      <th>11</th>\n",
       "      <td>min_dist</td>\n",
       "      <td>107.152915</td>\n",
       "      <td>103.237854</td>\n",
       "      <td>3.915060</td>\n",
       "      <td>7.055795e-16</td>\n",
       "    </tr>\n",
       "    <tr>\n",
       "      <th>12</th>\n",
       "      <td>sc</td>\n",
       "      <td>0.822697</td>\n",
       "      <td>0.815186</td>\n",
       "      <td>0.007511</td>\n",
       "      <td>9.646120e-02</td>\n",
       "    </tr>\n",
       "    <tr>\n",
       "      <th>13</th>\n",
       "      <td>sc97</td>\n",
       "      <td>0.822697</td>\n",
       "      <td>0.815186</td>\n",
       "      <td>0.007511</td>\n",
       "      <td>9.646120e-02</td>\n",
       "    </tr>\n",
       "    <tr>\n",
       "      <th>14</th>\n",
       "      <td>sex</td>\n",
       "      <td>0.519317</td>\n",
       "      <td>0.505052</td>\n",
       "      <td>0.014265</td>\n",
       "      <td>1.220744e-02</td>\n",
       "    </tr>\n",
       "    <tr>\n",
       "      <th>15</th>\n",
       "      <td>welfare_index</td>\n",
       "      <td>655.428377</td>\n",
       "      <td>659.579100</td>\n",
       "      <td>-4.150723</td>\n",
       "      <td>1.531678e-03</td>\n",
       "    </tr>\n",
       "  </tbody>\n",
       "</table>\n",
       "</div>"
      ],
      "text/plain": [
       "    Variable Name  Average value (Treatment villages)  \\\n",
       "0             age                           10.716991   \n",
       "1        dist_cap                          150.829074   \n",
       "2        dist_sec                            2.453122   \n",
       "3           fam_n                            7.281327   \n",
       "4             grc                            3.531599   \n",
       "5           grc97                            3.531599   \n",
       "6          hohage                           43.648828   \n",
       "7          hohedu                            2.663139   \n",
       "8          hohsex                            0.924656   \n",
       "9          hohwag                          544.339544   \n",
       "10          indig                            0.325986   \n",
       "11       min_dist                          107.152915   \n",
       "12             sc                            0.822697   \n",
       "13           sc97                            0.822697   \n",
       "14            sex                            0.519317   \n",
       "15  welfare_index                          655.428377   \n",
       "\n",
       "    Average value (Control villages)  Difference (Treat - Control)  \\\n",
       "0                          10.742023                     -0.025032   \n",
       "1                         153.769730                     -2.940656   \n",
       "2                           2.507662                     -0.054540   \n",
       "3                           7.302469                     -0.021142   \n",
       "4                           3.543050                     -0.011450   \n",
       "5                           3.543050                     -0.011450   \n",
       "6                          44.276918                     -0.628090   \n",
       "7                           2.590348                      0.072791   \n",
       "8                           0.922947                      0.001709   \n",
       "9                         573.163558                    -28.824015   \n",
       "10                          0.332207                     -0.006222   \n",
       "11                        103.237854                      3.915060   \n",
       "12                          0.815186                      0.007511   \n",
       "13                          0.815186                      0.007511   \n",
       "14                          0.505052                      0.014265   \n",
       "15                        659.579100                     -4.150723   \n",
       "\n",
       "         p-value  \n",
       "0   4.783633e-01  \n",
       "1   1.146482e-03  \n",
       "2   4.266282e-02  \n",
       "3   4.289667e-01  \n",
       "4   6.895228e-01  \n",
       "5   6.895228e-01  \n",
       "6   2.259461e-06  \n",
       "7   1.038219e-02  \n",
       "8   5.721253e-01  \n",
       "9   3.287285e-04  \n",
       "10  2.459021e-01  \n",
       "11  7.055795e-16  \n",
       "12  9.646120e-02  \n",
       "13  9.646120e-02  \n",
       "14  1.220744e-02  \n",
       "15  1.531678e-03  "
      ]
     },
     "execution_count": 23,
     "metadata": {},
     "output_type": "execute_result"
    }
   ],
   "source": [
    "# your code here\n",
    "\n",
    "poor97 = data.loc[(data[\"poor\"]=='pobre')&(data[\"year\"]==97)]\n",
    "\n",
    "ColumnsNames = set(poor97.columns)\n",
    "ColumnsUsed = []\n",
    "\n",
    "useThisName = False\n",
    "for name in ColumnsNames:\n",
    "    #Not all columns have values in them, some are categorical values. Since nothing was mentioned about encoding them to dummies\n",
    "    #I'm going to ignore the columns that do not have values in them. This try exception will filter out the ones that give errors\n",
    "    #when I try to calculate the mean, this may be silly for 0,1 columns\n",
    "    useThisName = False\n",
    "    try:\n",
    "        testCalc = poor97.loc[(poor97['progresa']=='basal')][name].mean()\n",
    "        useThisName = True\n",
    "        ColumnsUsed.append(name)\n",
    "    except:\n",
    "        pass\n",
    "\n",
    "#we can remove columns for id's folnum and village\n",
    "#also drop year as we are only looking at 1997\n",
    "#poor and progresa will be removed already because they are not int\n",
    "ColumnsUsed.remove('year')\n",
    "ColumnsUsed.remove('folnum')\n",
    "ColumnsUsed.remove('village')\n",
    "\n",
    "\n",
    "ColumnsUsed.sort()\n",
    "myDF = pd.DataFrame(index = np.arange(len(list(ColumnsUsed))), columns=['Variable Name',\n",
    "                                'Average value (Treatment villages)',\n",
    "                                'Average value (Control villages)',\n",
    "                                'Difference (Treat - Control)',\n",
    "                                'p-value'])\n",
    "myDF['Variable Name'] = list(ColumnsUsed)\n",
    "myDF['Average value (Treatment villages)'] = myDF['Variable Name'].map(lambda x: poor97.loc[(poor97['progresa']=='basal')][x].mean())\n",
    "myDF['Average value (Control villages)'] = myDF['Variable Name'].map(lambda x: poor97.loc[(poor97['progresa']!='basal')][x].mean())\n",
    "myDF['Difference (Treat - Control)'] = myDF['Average value (Treatment villages)'] - myDF['Average value (Control villages)']\n",
    "myDF['p-value'] = myDF['Variable Name'].map(lambda x: sp.stats.ttest_ind(poor97.loc[(poor97['progresa']=='basal')][x].values,\n",
    "                                                                         poor97.loc[(poor97['progresa']!='basal')][x].values,\n",
    "                                                                         nan_policy = 'omit',equal_var=False)[1])\n",
    "\n",
    "myDF\n",
    "\n"
   ]
  },
  {
   "cell_type": "code",
   "execution_count": 24,
   "metadata": {
    "collapsed": false
   },
   "outputs": [
    {
     "name": "stdout",
     "output_type": "stream",
     "text": [
      "Statistically significant at 5% ['dist_cap', 'dist_sec', 'hohage', 'hohedu', 'hohwag', 'min_dist', 'sex', 'welfare_index']\n"
     ]
    }
   ],
   "source": [
    "print('Statistically significant at 5%', list(myDF[\"Variable Name\"][myDF['p-value']<=0.05]))\n"
   ]
  },
  {
   "cell_type": "markdown",
   "metadata": {},
   "source": [
    "### 1.3 Interpretation\n",
    "\n",
    "* A: Are there statistically significant differences between treatment and control villages as baseline? \n",
    "* B: Why does it matter if there are differences at baseline?\n",
    "* C: What does this imply about how to measure the impact of the treatment?"
   ]
  },
  {
   "cell_type": "markdown",
   "metadata": {},
   "source": [
    "*Discuss your results here*\n",
    "\n",
    "A: Yes there are statistically significant differences. We observe these for dist_cap, dist_sec, hohage, hohedu, hohwag, min_dis, sex and welfare_index.\n",
    "\n",
    "B: We want our treatment and control averages to be as close as possible because this would imply the control group is \n",
    "most likely a good counterfactual for our treatment group. However, since there are differences it implies that \n",
    "either something went wrong in our randomization or we need to look at a more complex method to get rid of this.\n",
    "\n",
    "C: We would most likely look as a double difference, aka difference in difference, method to calculate the impact of the treatment."
   ]
  },
  {
   "cell_type": "markdown",
   "metadata": {},
   "source": [
    "### 1.4 Graphical exploration, part 1\n",
    "\n",
    "For each level of household head education, compute the average enrollment rate in 1997. Create a scatterplot that shows this relationship. What do you notice?"
   ]
  },
  {
   "cell_type": "code",
   "execution_count": 25,
   "metadata": {
    "collapsed": false
   },
   "outputs": [
    {
     "data": {
      "image/png": "[encoded data removed]",
      "text/plain": [
       "<matplotlib.figure.Figure at 0x27c84106940>"
      ]
     },
     "metadata": {},
     "output_type": "display_data"
    }
   ],
   "source": [
    "# Your code here\n",
    "all97 = data.loc[(data[\"year\"]==97)]\n",
    "avgEnrollRate =  all97.groupby('hohedu').mean()['sc']\n",
    "\n",
    "fig = plt.figure()\n",
    "ax = plt.gca()\n",
    "\n",
    "plt.title('Scatterplot of the average enrollment rate per years of household head education (1997)')\n",
    "plt.ylabel('Average enrollment rate')\n",
    "plt.xlabel('Household head education (yrs)')\n",
    "\n",
    "plt.scatter(x=list(avgEnrollRate.index),y= avgEnrollRate, alpha=0.5, edgecolors='none')\n",
    "plt.ylim(min(avgEnrollRate)-0.1,max(avgEnrollRate)+0.1)\n",
    "plt.xlim(min(list(avgEnrollRate.index))-1,max(list(avgEnrollRate.index))+1,)\n",
    "\n",
    "ax.spines['right'].set_visible(False)\n",
    "ax.spines['top'].set_visible(False)\n",
    "plt.tick_params(axis='x',which='both',top='off') # labels along the bottom edge are off\n",
    "plt.tick_params(axis='y',which='both',right='off') # labels along the bottom edge are off\n",
    "\n",
    "plt.show()"
   ]
  },
  {
   "cell_type": "code",
   "execution_count": 26,
   "metadata": {
    "collapsed": false
   },
   "outputs": [
    {
     "name": "stdout",
     "output_type": "stream",
     "text": [
      "count    2.000000\n",
      "mean     0.500000\n",
      "std      0.707107\n",
      "min      0.000000\n",
      "25%      0.250000\n",
      "50%      0.500000\n",
      "75%      0.750000\n",
      "max      1.000000\n",
      "Name: sc, dtype: float64\n"
     ]
    }
   ],
   "source": [
    "#let's look at what is going on in 20 years\n",
    "hohedu20_97 = data.loc[(data[\"year\"]==97)&(data[\"hohedu\"]==20)][\"sc\"]\n",
    "print(hohedu20_97.describe())"
   ]
  },
  {
   "cell_type": "markdown",
   "metadata": {},
   "source": [
    "*Discuss your results here*\n",
    "\n",
    "On average the average enrollment rate seems to increase as the number of years of education of the household head increases. This seems very plausible as you would expect people with more education to value it more and thus encourage/ensure that their offspring also pursue a decent education. The average enrollment rate for household heads with 20 yrs of education seems to be an outlier, upon further investigation it seems there are only two entries where the households heads had 20 years of education. Thus it does not make sense to include this in our chart."
   ]
  },
  {
   "cell_type": "markdown",
   "metadata": {},
   "source": [
    "### 1.5 Graphical exploration, part 2\n",
    "\n",
    "Visualize the distribution of village enrollment rates **among poor households in treated villages**, before and after treatment. Specifically, for each village, calculate the average rate of enrollment of poor households in treated villages in 1997, then compute the average rate of enrollment of poor households in treated villages in 1998. Create two separate histograms showing the distribution of these average enrollments rates, one histogram for 1997 and one histogram for 1998. On each histogram, draw a vertical line that intersects the x-axis at the average value (across all households). Does there appear to be a difference? Is this difference statistically significant?"
   ]
  },
  {
   "cell_type": "code",
   "execution_count": 27,
   "metadata": {
    "collapsed": false
   },
   "outputs": [
    {
     "name": "stdout",
     "output_type": "stream",
     "text": [
      "average for 1997 is  0.81383941106\n",
      "average for 1998 is  0.829536204263\n",
      "t-test p-value for comparing average enrollments between treated households in 1997 vs 1998 is 0.0442487003657\n"
     ]
    },
    {
     "data": {
      "image/png": "[encoded data removed]",
      "text/plain": [
       "<matplotlib.figure.Figure at 0x27c84bbceb8>"
      ]
     },
     "metadata": {},
     "output_type": "display_data"
    },
    {
     "data": {
      "image/png": "[encoded data removed]",
      "text/plain": [
       "<matplotlib.figure.Figure at 0x27c84bbcfd0>"
      ]
     },
     "metadata": {},
     "output_type": "display_data"
    }
   ],
   "source": [
    "# Your code here\n",
    "treatmentPoor97 = data.loc[(data[\"poor\"]=='pobre')&(data[\"year\"]==97)&(data[\"progresa\"]=='basal')].groupby('village').mean()['sc'] \n",
    "average97 = treatmentPoor97.mean()\n",
    "#print(treatmentPoor97.count())\n",
    "print('average for 1997 is ',average97)\n",
    "treatmentPoor98 = data.loc[(data[\"poor\"]=='pobre')&(data[\"year\"]==98)&(data[\"progresa\"]=='basal')].groupby('village').mean()['sc']\n",
    "average98 = treatmentPoor98.mean()\n",
    "#print(treatmentPoor98.count())\n",
    "print('average for 1998 is ',average98)\n",
    "print('t-test p-value for comparing average enrollments between treated households in 1997 vs 1998 is',\n",
    "      sp.stats.ttest_ind(treatmentPoor97.values,treatmentPoor98.values,nan_policy = 'omit')[1])\n",
    "\n",
    "binwidth = 0.05\n",
    "min_bin = 0.0\n",
    "max_bin = 1.1\n",
    "\n",
    "#plotting data for 1997\n",
    "\n",
    "plt.hist(treatmentPoor97.values, bins=np.arange(min_bin, max_bin + binwidth, binwidth),color = 'blue',edgecolor = \"none\")\n",
    "#not norming them as both 1998 and 1997 have 320 observations\n",
    "ax = plt.gca()\n",
    "\n",
    "plt.title('Histogram of the average enrollment rate for treated villages (1997)')\n",
    "plt.ylabel('Count of village per enrollment rate bin')\n",
    "plt.xlabel('Average enrollment rate')\n",
    "ylim97 = ax.get_ylim()\n",
    "\n",
    "plt.plot((average97, average97), ylim97, 'k--',color = 'yellow')\n",
    "plt.color = \"Blue\"\n",
    "\n",
    "ax.spines['right'].set_visible(False)\n",
    "ax.spines['top'].set_visible(False)\n",
    "plt.tick_params(axis='x',which='both',top='off') # labels along the bottom edge are off\n",
    "plt.tick_params(axis='y',which='both',right='off') # labels along the bottom edge are off\n",
    "\n",
    "plt.show()\n",
    "\n",
    "\n",
    "#now to plot data for 1998\n",
    "plt.hist(treatmentPoor98.values, bins=np.arange(min_bin, max_bin + binwidth, binwidth),color = 'blue',edgecolor = \"none\")\n",
    "ax2 = plt.gca()\n",
    "\n",
    "plt.title('Histogram of the average enrollment rate for treated villages (1998)')\n",
    "plt.ylabel('Count of village per enrollment rate bin')\n",
    "plt.xlabel('Average enrollment rate')\n",
    "\n",
    "\n",
    "ax2.spines['right'].set_visible(False)\n",
    "ax2.spines['top'].set_visible(False)\n",
    "plt.tick_params(axis='x',which='both',top='off') # labels along the bottom edge are off\n",
    "plt.tick_params(axis='y',which='both',right='off') # labels along the bottom edge are off\n",
    "ylim98 = ax2.get_ylim()\n",
    "plt.plot((average98, average98), ylim98, 'k--',color = 'yellow')\n",
    "plt.show()\n"
   ]
  },
  {
   "cell_type": "markdown",
   "metadata": {},
   "source": [
    "*Discuss your results here*\n",
    "\n",
    "Looking at the resulting histograms we can see that in 1998 the average enrollment rate tends to be higher than for 1997, the distribution is more skewed to the right, slightly so. Furthemore there is a difference in the averages of the two data sets,0.8138 for 1997 and 0.8295 for 1998. Using a t-test we get a p-value of 0.044, which is significant at the 0.05 threshold level. So we can conclude there is a different which is significant, even if slightly so, given how close it is to 0.05. Thus we can reject the null hypothesis that the two averages are equal."
   ]
  },
  {
   "cell_type": "markdown",
   "metadata": {},
   "source": [
    "## Part 2: Measuring Impact\n",
    "\n",
    "Our goal is to estimate the causal impact of the PROGRESA program on the social and economic outcomes of individuals in Mexico. We will focus on the impact of the program on the poor (those with poor=='pobre'), since only the poor were eligible to receive the PROGRESA assistance.\n",
    "\n",
    "### 2.1 Simple differences: T-test\n",
    "\n",
    "Begin by estimating the impact of Progresa using \"simple differences.\" Restricting yourself to data from 1998 (after treatment), calculate the average enrollment rate among **poor** households in the Treatment villages and the average enrollment rate among **poor** households in the control villages. Use a t-test to determine if this difference is statistically significant. What do you conclude?"
   ]
  },
  {
   "cell_type": "code",
   "execution_count": 28,
   "metadata": {
    "collapsed": false
   },
   "outputs": [
    {
     "name": "stdout",
     "output_type": "stream",
     "text": [
      "average enrollment rate for treatment villages for 1998 is  0.846479121395\n",
      "count of observations in treatment group for 1998 is 17027\n",
      "average enrollment rate for control villages for 1998 is  0.80763695673\n",
      "count of observations in control group for 1998 is 10423\n",
      "\n",
      "\n",
      "the difference between the averages of the treated group and the control group for 1998 is  0.0388421646651\n",
      "\n",
      "\n",
      "since difference in number of observations between two groups we use Welsch's t-test\n",
      "t-test p-value for comparing average enrollments between treated and control villages in 1998 is 2.96550729885e-16\n"
     ]
    }
   ],
   "source": [
    "# Your code here\n",
    "treatmentPoor98 = data.loc[(data[\"poor\"]=='pobre')&(data[\"year\"]==98)&(data[\"progresa\"]=='basal')]['sc']\n",
    "treatmentPoor98_avg = treatmentPoor98.mean()\n",
    "print('average enrollment rate for treatment villages for 1998 is ',treatmentPoor98_avg)\n",
    "print('count of observations in treatment group for 1998 is', treatmentPoor98.count())\n",
    "\n",
    "controlPoor98 = data.loc[(data[\"poor\"]=='pobre')&(data[\"year\"]==98)&(data[\"progresa\"]!='basal')]['sc']\n",
    "controlPoor98_avg = controlPoor98.mean()\n",
    "print('average enrollment rate for control villages for 1998 is ',controlPoor98_avg)\n",
    "print('count of observations in control group for 1998 is', controlPoor98.count())\n",
    "print('\\n')\n",
    "print('the difference between the averages of the treated group and the control group for 1998 is ',\n",
    "      treatmentPoor98_avg -controlPoor98_avg )\n",
    "\n",
    "print('\\n')\n",
    "print('since difference in number of observations between two groups we use Welsch\\'s t-test')\n",
    "print('t-test p-value for comparing average enrollments between treated and control villages in 1998 is',\n",
    "      sp.stats.ttest_ind(treatmentPoor98.values,\n",
    "                         controlPoor98.values,\n",
    "                         nan_policy = 'omit',\n",
    "                         equal_var=False)[1])\n"
   ]
  },
  {
   "cell_type": "markdown",
   "metadata": {},
   "source": [
    "*Discuss your results here*\n",
    "\n",
    "We can see that there is a difference of 3.88% between the average enrollment rate of the treatment group and the control group for 1998. Using Welsh's t-test we get a p-value of 2.965e-16 which is statistically significant at both 5% and 1% levels. Thus according to this method it would be statistically significant. However, given what we saw up above, that some of the baseline 1997 averages across are other variables are statistically different, perhaps we need to look at a double difference."
   ]
  },
  {
   "cell_type": "markdown",
   "metadata": {},
   "source": [
    "### 2.2 Simple differences: Regression\n",
    "\n",
    "Estimate the effects of Progresa on enrollment using a regression model, by regressing the 1998 enrollment rates **of the poor** on treatment assignment. For now, do not include any other variables in your regression. Discuss the following:\n",
    "\n",
    "* Based on this model, how much did Progresa increase or decrease the likelihood of a child enrolling? Make sure you express you answer in a sentence that your grandmother could understand, using appropriate units.\n",
    "* How does your regression estimate compare to your t-test estimate from part 2.1?\n",
    "* Based on this regression model, can we reject the null hypothesis that the treatment effects are zero? \n",
    "* What is the counterfactual assumption underlying this regression?"
   ]
  },
  {
   "cell_type": "code",
   "execution_count": 29,
   "metadata": {
    "collapsed": false
   },
   "outputs": [
    {
     "name": "stdout",
     "output_type": "stream",
     "text": [
      "                            OLS Regression Results                            \n",
      "==============================================================================\n",
      "Dep. Variable:                     sc   R-squared:                       0.003\n",
      "Model:                            OLS   Adj. R-squared:                  0.003\n",
      "Method:                 Least Squares   F-statistic:                     69.87\n",
      "Date:                Mon, 18 Sep 2017   Prob (F-statistic):           6.64e-17\n",
      "Time:                        20:08:57   Log-Likelihood:                -11926.\n",
      "No. Observations:               27450   AIC:                         2.386e+04\n",
      "Df Residuals:                   27448   BIC:                         2.387e+04\n",
      "Df Model:                           1                                         \n",
      "Covariance Type:            nonrobust                                         \n",
      "=====================================================================================\n",
      "                        coef    std err          t      P>|t|      [0.025      0.975]\n",
      "-------------------------------------------------------------------------------------\n",
      "Intercept             0.8076      0.004    220.676      0.000       0.800       0.815\n",
      "treatment_control     0.0388      0.005      8.359      0.000       0.030       0.048\n",
      "==============================================================================\n",
      "Omnibus:                     7638.939   Durbin-Watson:                   1.734\n",
      "Prob(Omnibus):                  0.000   Jarque-Bera (JB):            15767.534\n",
      "Skew:                          -1.767   Prob(JB):                         0.00\n",
      "Kurtosis:                       4.140   Cond. No.                         3.01\n",
      "==============================================================================\n",
      "\n",
      "Warnings:\n",
      "[1] Standard Errors assume that the covariance matrix of the errors is correctly specified.\n"
     ]
    }
   ],
   "source": [
    "# Your code here\n",
    "\n",
    "#we need to transform the progresa variable in our data from from a text to a dummy variable ca;;ed \"treatment_control\"\n",
    "data[\"treatment_control\"] = pd.get_dummies(data['progresa'])[\"basal\"]\n",
    "#now we filter poor for 98\n",
    "\n",
    "Poor98 = data.loc[(data[\"poor\"]=='pobre')&(data[\"year\"]==98)]\n",
    "#Poor98.dropna(thresh=1)\n",
    "Poor98.dropna(axis=0, how='any')\n",
    "#need some more imports\n",
    "# will add these to the top\n",
    "#http://www.statsmodels.org/dev/generated/statsmodels.regression.linear_model.OLS.html\n",
    "#https://stackoverflow.com/questions/44460584/multiple-linear-regression-with-statsmodels-python\n",
    "\n",
    "\n",
    "model = smf.ols(formula=\"sc ~ treatment_control\", data=Poor98).fit()\n",
    "print(model.summary())\n",
    "\n"
   ]
  },
  {
   "cell_type": "markdown",
   "metadata": {},
   "source": [
    "*Discuss your results here*\n",
    "* Q: Based on this model, how much did Progresa increase or decrease the likelihood of a child enrolling? Make sure you express you answer in a sentence that your grandmother could understand, using appropriate units. **Answer: The average enrollment rate is 3.88% higher in treated villages than it is in control villages. Thus it the progresa programme increases the likelihood of enrollment by 3.88%**\n",
    "\n",
    "* Q: How does your regression estimate compare to your t-test estimate from part 2.1? **Answer: The estimate of the treatment_control slope is 0.0388, which is the same as the difference we calculated between the averages for 2.1. Furthermore, the p-value is also very small (0.000) in the regression thus I would say it is also significant.**\n",
    "\n",
    "* Q: Based on this regression model, can we reject the null hypothesis that the treatment effects are zero? **Answer: Based on the model yes we can reject the null hypothesis, that the average enrollment rates of the treatment and control groups are the same.**\n",
    "\n",
    "* Q: What is the counterfactual assumption underlying this regression? **Answer: The counterfactual underlying this regression is that in the absence of treatment the average enrollment rates between the treatment and control groups are the same. That is that the cotrol group represents the treatment group in every way, but without having received the treatment.**\n",
    "\n"
   ]
  },
  {
   "cell_type": "markdown",
   "metadata": {},
   "source": [
    "### 2.3 Multiple Regression\n",
    "\n",
    "Re-run the above regression estimated but this time include a set of control variables. Include, for instance, age, distance to a secondary school, gender, education of household head, welfare index, indigenous, etc.\n",
    "\n",
    "* How do the controls affect the point estimate of treatment effect?\n",
    "* How do the controls affect the standard error on the treatment effect? \n",
    "* How do you interpret the differences (or similarities) between your estimates of 2.2 and 2.3?"
   ]
  },
  {
   "cell_type": "code",
   "execution_count": 30,
   "metadata": {
    "collapsed": false
   },
   "outputs": [
    {
     "name": "stdout",
     "output_type": "stream",
     "text": [
      "year + sex + indig + dist_sec + sc + grc + fam_n + min_dist + dist_cap + poor + progresa + hohedu + hohwag + welfare_index + hohsex + hohage + age + village + folnum + grc97 + sc97 + treatment_control\n",
      "\n",
      "\n",
      "                            OLS Regression Results                            \n",
      "==============================================================================\n",
      "Dep. Variable:                     sc   R-squared:                       0.304\n",
      "Model:                            OLS   Adj. R-squared:                  0.303\n",
      "Method:                 Least Squares   F-statistic:                     790.5\n",
      "Date:                Mon, 18 Sep 2017   Prob (F-statistic):               0.00\n",
      "Time:                        20:08:58   Log-Likelihood:                -6928.6\n",
      "No. Observations:               27200   AIC:                         1.389e+04\n",
      "Df Residuals:                   27184   BIC:                         1.402e+04\n",
      "Df Model:                          15                                         \n",
      "Covariance Type:            nonrobust                                         \n",
      "=====================================================================================\n",
      "                        coef    std err          t      P>|t|      [0.025      0.975]\n",
      "-------------------------------------------------------------------------------------\n",
      "Intercept             1.6556      0.020     82.887      0.000       1.616       1.695\n",
      "treatment_control     0.0317      0.004      7.964      0.000       0.024       0.039\n",
      "sex                   0.0336      0.004      8.852      0.000       0.026       0.041\n",
      "indig                 0.0271      0.005      5.845      0.000       0.018       0.036\n",
      "dist_sec             -0.0075      0.001     -8.518      0.000      -0.009      -0.006\n",
      "grc                   0.0510      0.001     34.761      0.000       0.048       0.054\n",
      "fam_n                 0.0015      0.001      1.732      0.083      -0.000       0.003\n",
      "min_dist              0.0003   7.19e-05      4.674      0.000       0.000       0.000\n",
      "dist_cap              0.0002   4.58e-05      4.411      0.000       0.000       0.000\n",
      "hohedu                0.0041      0.001      4.805      0.000       0.002       0.006\n",
      "hohwag            -1.439e-06   2.78e-06     -0.518      0.604   -6.88e-06       4e-06\n",
      "welfare_index     -1.805e-05   1.79e-05     -1.009      0.313   -5.31e-05     1.7e-05\n",
      "hohsex                0.0051      0.008      0.670      0.503      -0.010       0.020\n",
      "hohage               -0.0003      0.000     -1.550      0.121      -0.001     7.9e-05\n",
      "age                  -0.1000      0.001    -83.549      0.000      -0.102      -0.098\n",
      "village           -6.995e-06   1.68e-05     -0.416      0.677   -3.99e-05     2.6e-05\n",
      "==============================================================================\n",
      "Omnibus:                     3250.473   Durbin-Watson:                   1.733\n",
      "Prob(Omnibus):                  0.000   Jarque-Bera (JB):             4554.366\n",
      "Skew:                          -0.949   Prob(JB):                         0.00\n",
      "Kurtosis:                       3.645   Cond. No.                     1.12e+04\n",
      "==============================================================================\n",
      "\n",
      "Warnings:\n",
      "[1] Standard Errors assume that the covariance matrix of the errors is correctly specified.\n",
      "[2] The condition number is large, 1.12e+04. This might indicate that there are\n",
      "strong multicollinearity or other numerical problems.\n"
     ]
    }
   ],
   "source": [
    "# Your code here\n",
    "\n",
    "print(' + '.join(map(str, list(Poor98.columns))))\n",
    "print('\\n')\n",
    "\n",
    "#https://www.datarobot.com/blog/multiple-regression-using-statsmodels/\n",
    "\n",
    "\n",
    "model = smf.ols(formula=\"sc ~ treatment_control + sex + indig + dist_sec + grc + fam_n + min_dist + dist_cap +\\\n",
    "                hohedu + hohwag + welfare_index + hohsex + hohage + age + village \", data=Poor98).fit()\n",
    "print(model.summary())\n"
   ]
  },
  {
   "cell_type": "markdown",
   "metadata": {},
   "source": [
    "*Discuss your results here*\n",
    "* How do the controls affect the point estimate of treatment effect? **Answer:The estimate for the coefficient for our treatment_control group changed from 0.0388 to 0.0317**\n",
    "\n",
    "* How do the controls affect the standard error on the treatment effect? **Answer: The standard error of the treatment_control variable has decreased from 0.005 to 0.004, thus a small impact**\n",
    "\n",
    "* How do you interpret the differences (or similarities) between your estimates of 2.2 and 2.3? **Answer:I would say that in the multiple regression (2.3) we probably explain more of the intercept by including the other control variables, as can be seen by the small change in the coefficient for our treatment_control group. Thus also the variables seem to be somewhat independent, which is a good thing given it means progresa has the impact and not other things per se.**"
   ]
  },
  {
   "cell_type": "markdown",
   "metadata": {},
   "source": [
    "### 2.4 Difference-in-Difference, version 1 (tabular)\n",
    "\n",
    "Thus far, we have computed the effects of Progresa by estimating the difference in 1998 enrollment rates across villages. An alternative approach would be to compute the treatment effect using a difference-in-differences framework.\n",
    "\n",
    "Begin by estimating the average treatment effects of the program for poor households using data from 1997 and 1998. Specifically, calculate the difference (between 1997 and 1998) in enrollment rates among poor households in treated villages; then compute the difference (between 1997 and 1998) in enrollment rates among poor households in control villages. The difference between these two differences is your estimate.\n",
    "\n",
    "* What is your estimate of the impact, and how does it compare to your earlier (simple difference) results?\n",
    "* What is the counterfactual assumption underlying this estimate? \n"
   ]
  },
  {
   "cell_type": "code",
   "execution_count": 31,
   "metadata": {
    "collapsed": false
   },
   "outputs": [
    {
     "name": "stdout",
     "output_type": "stream",
     "text": [
      "Control enrollment average for 1998 is: 0.80763695673\n",
      "Control enrollment average for 1997 is: 0.815186003058\n",
      "Difference in control groups is       : -0.00754904632728\n",
      "Treated enrollment average for 1998 is: 0.846479121395\n",
      "Control enrollment average for 1997 is: 0.822696887403\n",
      "Difference in treated groups is       : 0.023782233992\n",
      "Double difference is                  : 0.0313312803193\n"
     ]
    }
   ],
   "source": [
    "# Your code here\n",
    "Poor98 = data.loc[(data[\"poor\"]=='pobre')&(data[\"year\"]==98)]\n",
    "Poor97 = data.loc[(data[\"poor\"]=='pobre')&(data[\"year\"]==97)]\n",
    "\n",
    "Control_98_Average = Poor98.loc[(Poor98['treatment_control']==0)].mean()['sc']\n",
    "Treatment_98_Average = Poor98.loc[(Poor98['treatment_control']==1)].mean()['sc']\n",
    "\n",
    "Control_97_Average = Poor97.loc[(Poor97['treatment_control']==0)].mean()['sc']\n",
    "Treatment_97_Average = Poor97.loc[(Poor97['treatment_control']==1)].mean()['sc']\n",
    "\n",
    "Treated_diff = Treatment_98_Average - Treatment_97_Average\n",
    "Control_diff = Control_98_Average - Control_97_Average\n",
    "\n",
    "print('Control enrollment average for 1998 is:',Control_98_Average)\n",
    "print('Control enrollment average for 1997 is:',Control_97_Average)\n",
    "print('Difference in control groups is       :', Control_98_Average - Control_97_Average)\n",
    "print('Treated enrollment average for 1998 is:',Treatment_98_Average)\n",
    "print('Control enrollment average for 1997 is:',Treatment_97_Average)\n",
    "print('Difference in treated groups is       :', Treatment_98_Average - Treatment_97_Average)\n",
    "print('Double difference is                  :', Treated_diff - Control_diff)\n"
   ]
  },
  {
   "cell_type": "markdown",
   "metadata": {},
   "source": [
    "*Discuss your results here*\n",
    "\n",
    "The double difference is 0.0313, which is closer to the multiple regression estimate of 0.0317 than it is to the single difference estimate of 0.0388 calculated before.\n",
    "\n",
    "The counterfactual underlying this difference is that in the absence of treatment the difference between the average enrollment rate of the treatment group for years 1998 vs 1997 would be the same as the difference between the average enrollment rates for the control group for year 1998 vs 1997. Thus from 1997 to 1998, the change in the average enrollment rate would be the same between the two groups in the absence of treatment. "
   ]
  },
  {
   "cell_type": "markdown",
   "metadata": {},
   "source": [
    "### 2.5 Difference-in-Difference, version 2 (regression)\n",
    "\n",
    "Now use a regression specification to estimate the average treatment effects of the program in a difference-in-differences framework. Include at least 5 control variables.\n",
    "\n",
    "* What is your estimate of the impact of Progresa? Be very specific in interpreting your coefficients and standard errors, and make sure to specify exactly what units you are measuring and estimating.\n",
    "* How do these estimates of the treatment effect compare to the estimates based on the simple difference?\n",
    "* How do these estimates compare to the difference-in-difference estimates from 2.4 above? What accounts for these differences?\n",
    "* What is the counterfactual assumption underlying this regression? "
   ]
  },
  {
   "cell_type": "code",
   "execution_count": 32,
   "metadata": {
    "collapsed": false
   },
   "outputs": [
    {
     "name": "stdout",
     "output_type": "stream",
     "text": [
      "                            OLS Regression Results                            \n",
      "==============================================================================\n",
      "Dep. Variable:                     sc   R-squared:                       0.311\n",
      "Model:                            OLS   Adj. R-squared:                  0.310\n",
      "Method:                 Least Squares   F-statistic:                     1631.\n",
      "Date:                Mon, 18 Sep 2017   Prob (F-statistic):               0.00\n",
      "Time:                        20:09:02   Log-Likelihood:                -15320.\n",
      "No. Observations:               57938   AIC:                         3.067e+04\n",
      "Df Residuals:                   57921   BIC:                         3.083e+04\n",
      "Df Model:                          16                                         \n",
      "Covariance Type:            nonrobust                                         \n",
      "===========================================================================================================\n",
      "                                              coef    std err          t      P>|t|      [0.025      0.975]\n",
      "-----------------------------------------------------------------------------------------------------------\n",
      "Intercept                                8.528e-05   4.45e-05      1.916      0.055   -1.97e-06       0.000\n",
      "C(treatment_control)[T.1]                   0.0016      0.002      0.876      0.381      -0.002       0.005\n",
      "C(year)[T.98]                               0.0084      0.004      1.954      0.051   -2.36e-05       0.017\n",
      "C(treatment_control)[T.1]:C(year)[T.98]     0.0292      0.005      5.390      0.000       0.019       0.040\n",
      "treatment_control                           0.0016      0.002      0.876      0.381      -0.002       0.005\n",
      "year                                        0.0167      0.000    119.302      0.000       0.016       0.017\n",
      "sex                                         0.0367      0.003     14.006      0.000       0.032       0.042\n",
      "indig                                       0.0317      0.003      9.854      0.000       0.025       0.038\n",
      "dist_sec                                   -0.0065      0.001    -10.589      0.000      -0.008      -0.005\n",
      "grc                                         0.0486      0.001     48.071      0.000       0.047       0.051\n",
      "fam_n                                       0.0009      0.001      1.505      0.132      -0.000       0.002\n",
      "min_dist                                    0.0003   4.31e-05      7.579      0.000       0.000       0.000\n",
      "dist_cap                                    0.0002   2.51e-05      7.329      0.000       0.000       0.000\n",
      "hohedu                                      0.0037      0.001      6.225      0.000       0.003       0.005\n",
      "hohwag                                    4.95e-07    1.9e-06      0.260      0.795   -3.24e-06    4.23e-06\n",
      "welfare_index                           -1.631e-05   1.24e-05     -1.318      0.188   -4.06e-05    7.95e-06\n",
      "hohsex                                     -0.0017      0.005     -0.324      0.746      -0.012       0.008\n",
      "hohage                                  -4.707e-05      0.000     -0.354      0.723      -0.000       0.000\n",
      "age                                        -0.0983      0.001   -120.910      0.000      -0.100      -0.097\n",
      "==============================================================================\n",
      "Omnibus:                     6083.138   Durbin-Watson:                   1.514\n",
      "Prob(Omnibus):                  0.000   Jarque-Bera (JB):             8175.414\n",
      "Skew:                          -0.887   Prob(JB):                         0.00\n",
      "Kurtosis:                       3.488   Cond. No.                     8.00e+18\n",
      "==============================================================================\n",
      "\n",
      "Warnings:\n",
      "[1] Standard Errors assume that the covariance matrix of the errors is correctly specified.\n",
      "[2] The smallest eigenvalue is 9.75e-28. This might indicate that there are\n",
      "strong multicollinearity problems or that the design matrix is singular.\n"
     ]
    }
   ],
   "source": [
    "# Your code here\n",
    "\n",
    "Poor = data.loc[(data[\"poor\"]=='pobre')]\n",
    "Poor.dropna(axis=0, how='any')\n",
    "#according to page 72 of world bank document we get the DD by looking at the coefficient of the term C(treatment_control)*C(year)\n",
    "\n",
    "model = smf.ols(formula=\"sc ~ treatment_control +C(treatment_control)*C(year) + year + sex + indig +\\\n",
    "                dist_sec + grc + fam_n + min_dist + dist_cap +\\\n",
    "                hohedu + hohwag + welfare_index + hohsex + hohage + age \", data=Poor).fit()\n",
    "\n",
    "# model = smf.ols(formula=\"sc ~ treatment_control +treatment_control*year + year + sex + indig +\\\n",
    "#                 dist_sec + grc + fam_n + min_dist + dist_cap +\\\n",
    "#                 hohedu + hohwag + welfare_index + hohsex + hohage + age \", data=Poor).fit()\n",
    "\n",
    "print(model.summary())"
   ]
  },
  {
   "cell_type": "markdown",
   "metadata": {},
   "source": [
    "*Discuss your results here*\n",
    "* What is your estimate of the impact of Progresa? Be very specific in interpreting your coefficients and standard errors, and make sure to specify exactly what units you are measuring and estimating. **Answer: The double difference would be the coefficient of our treatmenat_control*time variable. This coefficient is 0.0292. This implies that the average enrollment will increase by 2.92% from year 97 to 98 if the specific household is in the treatment group as opposed to the control group. The standard error is 0.5%**\n",
    "\n",
    "* How do these estimates of the treatment effect compare to the estimates based on the simple difference? **Answer: The simple difference regression was 0.0388 for just the treatment_control as control variable. The multiple regression stated the difference as 0.0317. The standard errors are between 0.005 and 0.004.**\n",
    "\n",
    "* How do these estimates compare to the difference-in-difference estimates from 2.4 above? What accounts for these differences? **Answer: The DD method from 2.4 showed 0.0313 whereas here we see 0.0292. The difference is explained through the fact that we now have additional control variables in our equation. Whilst the difference is small, the fact that adding control variables creates this difference shows that there is some correlation between our treatmenat_control variable and the other variables.**\n",
    "\n",
    "* What is the counterfactual assumption underlying this regression? **Answer: The counterfactual underlying this difference is that in the absence of treatment the difference between the average enrollment rate of the treatment group for years 1998 vs 1997 would be the same as the difference between the average enrollment rates for the control group for year 1998 vs 1997. Thus from 1997 to 1998, the change in the average enrollment rate would be the same between the two groups in the absence of treatment. **"
   ]
  },
  {
   "cell_type": "markdown",
   "metadata": {},
   "source": [
    "### 2.6 Spillover effects\n",
    "\n",
    "Thus far, we have focused on the impact of PROGRESA on poor households. Repeat your analysis in 2.5, instead focusing on the impact of PROGRESA on non-poor households. \n",
    "* Do you observe any impacts of PROGRESA on the non-poor?\n",
    "* Regardless of whether you find evidence of spillovers, describe one or two reasons why PROGRESA *might* have impacted non-poor households. Give concrete examples based on the context in which PROGRESA was implemented."
   ]
  },
  {
   "cell_type": "code",
   "execution_count": 33,
   "metadata": {
    "collapsed": false
   },
   "outputs": [
    {
     "name": "stdout",
     "output_type": "stream",
     "text": [
      "                            OLS Regression Results                            \n",
      "==============================================================================\n",
      "Dep. Variable:                     sc   R-squared:                       0.337\n",
      "Model:                            OLS   Adj. R-squared:                  0.336\n",
      "Method:                 Least Squares   F-statistic:                     327.3\n",
      "Date:                Mon, 18 Sep 2017   Prob (F-statistic):               0.00\n",
      "Time:                        20:09:03   Log-Likelihood:                -3267.3\n",
      "No. Observations:               10319   AIC:                             6569.\n",
      "Df Residuals:                   10302   BIC:                             6692.\n",
      "Df Model:                          16                                         \n",
      "Covariance Type:            nonrobust                                         \n",
      "===========================================================================================================\n",
      "                                              coef    std err          t      P>|t|      [0.025      0.975]\n",
      "-----------------------------------------------------------------------------------------------------------\n",
      "Intercept                                4.155e-06      0.000      0.038      0.970      -0.000       0.000\n",
      "C(treatment_control)[T.1]                   0.0110      0.005      2.454      0.014       0.002       0.020\n",
      "C(year)[T.98]                               0.0174      0.011      1.652      0.099      -0.003       0.038\n",
      "C(treatment_control)[T.1]:C(year)[T.98]    -0.0034      0.013     -0.254      0.800      -0.030       0.023\n",
      "treatment_control                           0.0110      0.005      2.454      0.014       0.002       0.020\n",
      "year                                        0.0178      0.000     46.522      0.000       0.017       0.019\n",
      "sex                                         0.0328      0.007      4.998      0.000       0.020       0.046\n",
      "indig                                       0.0196      0.010      1.946      0.052      -0.000       0.039\n",
      "dist_sec                                   -0.0098      0.002     -5.696      0.000      -0.013      -0.006\n",
      "grc                                         0.0649      0.002     26.569      0.000       0.060       0.070\n",
      "fam_n                                      -0.0028      0.001     -1.967      0.049      -0.006   -1.01e-05\n",
      "min_dist                                   -0.0002      0.000     -1.517      0.129      -0.000       5e-05\n",
      "dist_cap                                    0.0006   7.39e-05      7.509      0.000       0.000       0.001\n",
      "hohedu                                      0.0053      0.001      4.431      0.000       0.003       0.008\n",
      "hohwag                                   1.476e-06   3.04e-06      0.486      0.627   -4.47e-06    7.43e-06\n",
      "welfare_index                            3.353e-05   2.77e-05      1.212      0.225   -2.07e-05    8.77e-05\n",
      "hohsex                                     -0.0123      0.013     -0.912      0.362      -0.039       0.014\n",
      "hohage                                      0.0003      0.000      0.887      0.375      -0.000       0.001\n",
      "age                                        -0.1156      0.002    -55.253      0.000      -0.120      -0.111\n",
      "==============================================================================\n",
      "Omnibus:                      624.437   Durbin-Watson:                   1.546\n",
      "Prob(Omnibus):                  0.000   Jarque-Bera (JB):              744.805\n",
      "Skew:                          -0.658   Prob(JB):                    1.85e-162\n",
      "Kurtosis:                       2.997   Cond. No.                     2.00e+19\n",
      "==============================================================================\n",
      "\n",
      "Warnings:\n",
      "[1] Standard Errors assume that the covariance matrix of the errors is correctly specified.\n",
      "[2] The smallest eigenvalue is 5.6e-29. This might indicate that there are\n",
      "strong multicollinearity problems or that the design matrix is singular.\n"
     ]
    }
   ],
   "source": [
    "# Your code here\n",
    "\n",
    "NonPoor = data.loc[(data[\"poor\"]!='pobre')]\n",
    "NonPoor.dropna(axis=0, how='any')\n",
    "#according to page 72 of world bank document we get the DD by looking at the coefficient of the term C(treatment_control)*C(year)\n",
    "\n",
    "model = smf.ols(formula=\"sc ~ treatment_control +C(treatment_control)*C(year) + year + sex + indig +\\\n",
    "                dist_sec + grc + fam_n + min_dist + dist_cap +\\\n",
    "                hohedu + hohwag + welfare_index + hohsex + hohage + age \", data=NonPoor).fit()\n",
    "\n",
    "# model = smf.ols(formula=\"sc ~ treatment_control +treatment_control*year + year + sex + indig +\\\n",
    "#                 dist_sec + grc + fam_n + min_dist + dist_cap +\\\n",
    "#                 hohedu + hohwag + welfare_index + hohsex + hohage + age \", data=Poor).fit()\n",
    "\n",
    "print(model.summary())"
   ]
  },
  {
   "cell_type": "markdown",
   "metadata": {},
   "source": [
    "*Discuss your results here*\n",
    "\n",
    "* Do you observe any impacts of PROGRESA on the non-poor? **Answer: We see a very small impact on the non-poor households. That is from year 97 to 98 the average enrollment rate of the treatment decreased by 0.0034 compared to the average enrollment rate for this same period for the control group. However, the p-value for this statistic is not significant and thus we can say that the averages should be the same. Thus we can't reject the null hypothesis **\n",
    "\n",
    "* Regardless of whether you find evidence of spillovers, describe one or two reasons why PROGRESA *might* have impacted non-poor households. Give concrete examples based on the context in which PROGRESA was implemented. **Answer:1. people talk and thus people can move from one village to another if they determine there is a progresa payment. 2. people can try and spoof the system by pretending to be poor when in fact they are non-poor **"
   ]
  },
  {
   "cell_type": "markdown",
   "metadata": {},
   "source": [
    "### 2.7 Summary\n",
    "\n",
    "* Based on all the analysis you have undertaken to date, do you believe that Progresa had a causal impact on the enrollment rates of poor households in Mexico? \n",
    "* Describe one other way that you might analyze these data to further investigate the causal impact of Progresa on enrollment, and clearly state the counterfactual assumption you would need to make for that approach to be valid.  *(Hint: Consider using the non-poor in your analysis)*"
   ]
  },
  {
   "cell_type": "markdown",
   "metadata": {},
   "source": [
    "*Discuss your results here*\n",
    "\n",
    "Yes, it seems that Progressa had a causal impact on the enrollment rates of poor households when we look at the double difference of 2.92% calculated in question 2.5. Furthermore, the fact that we could not see material spill-over effects also indicates that the test conditions seem to have been good.\n",
    "\n",
    "We could look at the double difference between treatment and control groups from 97 to 98 for poor and subtract from this the double difference between treatment and control groups from 97 to 98 for non-poor. The counterfactual is that in the absence of treatment the change in average enrollment rate per household from 97 to 98 for poor groups, should be the same as for non-poor groups."
   ]
  },
  {
   "cell_type": "code",
   "execution_count": null,
   "metadata": {
    "collapsed": true
   },
   "outputs": [],
   "source": []
  }
 ],
 "metadata": {
  "anaconda-cloud": {},
  "kernelspec": {
   "display_name": "Python 3",
   "language": "python",
   "name": "python3"
  },
  "language_info": {
   "codemirror_mode": {
    "name": "ipython",
    "version": 3
   },
   "file_extension": ".py",
   "mimetype": "text/x-python",
   "name": "python",
   "nbconvert_exporter": "python",
   "pygments_lexer": "ipython3",
   "version": "3.5.0"
  }
 },
 "nbformat": 4,
 "nbformat_minor": 0
}
