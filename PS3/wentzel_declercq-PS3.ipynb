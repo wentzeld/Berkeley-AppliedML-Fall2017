{
 "cells": [
  {
   "cell_type": "markdown",
   "metadata": {},
   "source": [
    "# Problem Set 3, due October 2 at 11:59pm.\n",
    "\n",
    "### Before You Start\n",
    "\n",
    "Make sure the following libraries load correctly (hit Ctrl-Enter). Note that while you are loading several powerful libraries, including machine learning libraries, the goal of this problem set is to implement several algorithms from scratch. In particular, you should *not* be using any built-in libraries for nearest neighbors, distance metrics, or cross-validation -- your mission is to write those algorithms in Python! Part 1 will be relatively easy; Part 2 will take more time."
   ]
  },
  {
   "cell_type": "code",
   "execution_count": 3,
   "metadata": {
    "collapsed": false
   },
   "outputs": [],
   "source": [
    "import IPython\n",
    "import numpy as np\n",
    "import scipy as sp\n",
    "import pandas as pd\n",
    "import matplotlib\n",
    "import matplotlib.pyplot as plt\n",
    "import sklearn\n",
    "import math\n",
    "import time"
   ]
  },
  {
   "cell_type": "markdown",
   "metadata": {},
   "source": [
    "---\n",
    "\n",
    "## Introduction to the assignment\n",
    "\n",
    "For this assignment, you will be using the [Boston Housing Prices Data Set](http://www.kellogg.northwestern.edu/faculty/weber/emp/_session_3/boston.htm).  Please read about the dataset carefully before continuing.  Use the following commands to load the dataset:\n"
   ]
  },
  {
   "cell_type": "code",
   "execution_count": 4,
   "metadata": {
    "collapsed": false
   },
   "outputs": [],
   "source": [
    "from sklearn.datasets import load_boston\n",
    "bdata = load_boston()"
   ]
  },
  {
   "cell_type": "markdown",
   "metadata": {},
   "source": [
    "---\n",
    "\n",
    "## Part 1: Experimental Setup\n",
    "\n",
    "The goal of the next few sections is to design an experiment to predict the median home value for an instance in the data.\n",
    "Before beginning the \"real\" work, refamiliarize yourself with the dataset."
   ]
  },
  {
   "cell_type": "markdown",
   "metadata": {},
   "source": [
    "### 1.1 Begin by writing a function to compute the Root Mean Squared Error for a list of numbers\n",
    "\n",
    "You can find the sqrt function in the Numpy package. Furthermore the details of RMSE can be found on [Wikipedia](http://en.wikipedia.org/wiki/Root-mean-square_deviation). Do not use a built-in function (other than sqrt) to compute RMSE.\n",
    "\n"
   ]
  },
  {
   "cell_type": "code",
   "execution_count": 5,
   "metadata": {
    "collapsed": false
   },
   "outputs": [
    {
     "name": "stdout",
     "output_type": "stream",
     "text": [
      "2.0816659994661326\n"
     ]
    }
   ],
   "source": [
    "\"\"\"\n",
    "Function\n",
    "--------\n",
    "compute_rmse\n",
    "\n",
    "Given two arrays, one of actual values and one of predicted values,\n",
    "compute the Roote Mean Squared Error\n",
    "\n",
    "Parameters\n",
    "----------\n",
    "predictions : array\n",
    "    Array of numerical values corresponding to predictions for each of the N observations\n",
    "\n",
    "yvalues : array\n",
    "    Array of numerical values corresponding to the actual values for each of the N observations\n",
    "\n",
    "Returns\n",
    "-------\n",
    "rmse : int\n",
    "    Root Mean Squared Error of the prediction\n",
    "\n",
    "Example\n",
    "-------\n",
    ">>> print(compute_rmse((2,2,3),(0,2,6)))\n",
    "2.08\n",
    "\"\"\"\n",
    "def compute_rmse(predictions, yvalues):\n",
    "    # your code here\n",
    "    rmse = \"NaN\"\n",
    "    predictions = np.asarray(predictions)\n",
    "    yvalues = np.asarray(yvalues)\n",
    "    if len(predictions)!=len(yvalues):\n",
    "        return rmse\n",
    "    elif len(predictions)==0:\n",
    "        return rmse\n",
    "    else:\n",
    "        rmse=math.sqrt(1/float(len(predictions))*np.sum(np.subtract(predictions,yvalues)**2))\n",
    "    return rmse\n",
    "\n",
    "\n",
    "print(compute_rmse((2,2,3),(0,2,6)))"
   ]
  },
  {
   "cell_type": "markdown",
   "metadata": {},
   "source": [
    "### 1.2 Divide your data into training and testing datasets\n",
    "\n",
    "Randomly select 80% of the data and put this in a training dataset (call this \"bdata_train\"), and place the remaining 20% in a testing dataset (call this \"bdata_test\")\n"
   ]
  },
  {
   "cell_type": "code",
   "execution_count": 6,
   "metadata": {
    "collapsed": false
   },
   "outputs": [
    {
     "name": "stdout",
     "output_type": "stream",
     "text": [
      "404\n",
      "102\n"
     ]
    }
   ],
   "source": [
    "# leave the following line untouched, it will help ensure that your \"random\" split is the same \"random\" split used by the rest of the class\n",
    "np.random.seed(seed=13579)\n",
    "\n",
    "\n",
    "# enter your code here\n",
    "def splitData(inputData,inputTarget,trainingPercentage = 0.8):\n",
    "    if len(inputData)!=len(inputTarget):\n",
    "        return \"data sets not equal in size\",-1\n",
    "    else:\n",
    "        countofData = len(inputData)\n",
    "        #create array of index values that we will use to shuffle our data\n",
    "        indexOrder = np.random.permutation(countofData)\n",
    "        \n",
    "        #shuffle the dataframes according to indexOrder\n",
    "        inputData= inputData.iloc[indexOrder]\n",
    "        inputTarget= inputTarget.iloc[indexOrder]\n",
    "        \n",
    "        #now we just slice the data accordingly\n",
    "        #note I'm separating training and testing dataframes\n",
    "        trainingData = inputData[0:int(trainingPercentage*len(inputData))]\n",
    "        testingData = inputData[len(trainingData):]\n",
    "        trainingTarget = inputTarget[0:int(trainingPercentage*len(inputTarget))]\n",
    "        testingTarget = inputTarget[len(trainingTarget):]\n",
    "        return trainingData,testingData,trainingTarget,testingTarget\n",
    "\n",
    "bostonData = pd.DataFrame(data = bdata.data,columns=bdata.feature_names)\n",
    "bostonTarget = pd.DataFrame(bdata.target,columns=['MedianValue'])\n",
    "\n",
    "trainingData,testingData,trainingTarget,testingTarget = splitData(bostonData,bostonTarget,0.8)\n",
    "\n",
    "print(len(trainingData))\n",
    "print(len(testingData))\n",
    "#now convert indices to sets and leverage isdisjoint to check if they are in fact disjoint, if they are we are good to go\n",
    "#they are\n",
    "#print(set(trainingData.index).isdisjoint(testingData.index))"
   ]
  },
  {
   "cell_type": "markdown",
   "metadata": {},
   "source": [
    "### 1.3 Use a very bad baseline for prediction, and compute RMSE\n",
    "\n",
    "Create a model that predicts, for every observation x_i, that the median home value is the average (mean) of the median values for all instances in the training set.  Specifically, do the following:\n",
    "1. Compute the RMSE of the training set.\n",
    "2. Now compute the RMSE on the test data set (but use the model you trained on the training set!).\n",
    "3. How does RMSE compare for training vs. testing datasets? Is this what you expected, and why?\n",
    "4. Create a scatter plot that shows the true value of each instance on the x-axis and the predicted value of each instance on the y-axis. Color the training instances in blue and the test instances in red. Make sure to label your axes appropriately, and add a legend to your figure to make clear which dots are which.\n",
    "5. Add code to your function to measure the running time of your algorithm. How long does it take to compute the predicted values for the test data?"
   ]
  },
  {
   "cell_type": "code",
   "execution_count": 7,
   "metadata": {
    "collapsed": false
   },
   "outputs": [
    {
     "name": "stdout",
     "output_type": "stream",
     "text": [
      "Time in seconds for prediction data : 0.0013921319352919908\n",
      "RMSE training vs training prediction: 9.207281207825494\n",
      "Time in seconds for RMSE calculation: 0.00022346889980055752\n",
      "Time in seconds for prediction data : 0.00030977734753146174\n",
      "RMSE test vs training prediction    : 9.11139618372449\n",
      "Time in seconds for RMSE calculation: 0.0006512788812559041\n"
     ]
    },
    {
     "data": {
      "image/png": "[encoded data removed]",
      "text/plain": [
       "<matplotlib.figure.Figure at 0x230384a4320>"
      ]
     },
     "metadata": {},
     "output_type": "display_data"
    }
   ],
   "source": [
    "# enter your code here\n",
    "\n",
    "start= time.clock()\n",
    "predictionFromTraining = (np.full((1, len(trainingTarget)), trainingTarget['MedianValue'].mean()))[0]\n",
    "end= time.clock()\n",
    "timediff= (end-start)\n",
    "print('Time in seconds for prediction data :',timediff)\n",
    "\n",
    "start= time.clock()\n",
    "RMSE_training_vs_trainingprediction = compute_rmse(predictionFromTraining,np.asarray(trainingTarget['MedianValue']))\n",
    "end= time.clock()\n",
    "timediff= (end-start)\n",
    "print('RMSE training vs training prediction:',RMSE_training_vs_trainingprediction)\n",
    "print('Time in seconds for RMSE calculation:',timediff)\n",
    "\n",
    "start= time.clock()\n",
    "predictionFromTraining_testsize = (np.full((1, len(testingTarget)), trainingTarget['MedianValue'].mean()))[0]\n",
    "end= time.clock()\n",
    "timediff= (end-start)\n",
    "print('Time in seconds for prediction data :',timediff)\n",
    "\n",
    "RMSE_testing_vs_trainingprediction = compute_rmse(predictionFromTraining_testsize,np.asarray(testingTarget['MedianValue']))\n",
    "end= time.clock()\n",
    "timediff= (end-start)\n",
    "print('RMSE test vs training prediction    :',RMSE_testing_vs_trainingprediction)\n",
    "print('Time in seconds for RMSE calculation:',timediff)\n",
    "\n",
    "%matplotlib inline\n",
    "\n",
    "fig = plt.figure()\n",
    "ax = plt.gca()\n",
    "\n",
    "plt.title('Scatterplot of the predicted vs actual home values')\n",
    "plt.ylabel('Predicted home values')\n",
    "plt.xlabel('Actual home values')\n",
    "\n",
    "plt.scatter(x=np.asarray(testingTarget['MedianValue']),y= predictionFromTraining_testsize,marker='x',color='red', alpha=0.5, edgecolors='none',\n",
    "           label='Testing Data')\n",
    "plt.scatter(x=np.asarray(trainingTarget['MedianValue']),y= predictionFromTraining,marker='o',color='blue', alpha=0.5, edgecolors='none',\n",
    "           label='Training Data')\n",
    "\n",
    "handles, labels = ax.get_legend_handles_labels()\n",
    "ax.legend(handles, labels)\n",
    "\n",
    "ax.spines['right'].set_visible(False)\n",
    "ax.spines['top'].set_visible(False)\n",
    "plt.tick_params(axis='x',which='both',top='off') # labels along the bottom edge are off\n",
    "plt.tick_params(axis='y',which='both',right='off') # labels along the bottom edge are off\n",
    "\n",
    "plt.show()"
   ]
  },
  {
   "cell_type": "markdown",
   "metadata": {},
   "source": [
    "*Enter your observations here*\n",
    "1. Compute the RMSE of the training set.**I get 9.2072 as RMSE for the training data**\n",
    "\n",
    "2. Now compute the RMSE on the test data set (but use the model you trained on the training set!). **I get 9.11396**\n",
    "\n",
    "3. How does RMSE compare for training vs. testing datasets? Is this what you expected, and why? **They are actually quite close, but this really does not mean much as the prediction method is just the mean of the training set, so what is the testing and training data are very similar. It doesn't say much in my view. **\n",
    "\n",
    "4. Create a scatter plot that shows the true value of each instance on the x-axis and the predicted value of each instance on the y-axis. Color the training instances in blue and the test instances in red. Make sure to label your axes appropriately, and add a legend to your figure to make clear which dots are which.**Since we are only using the average(mean) of the training data set, the predictions will always be the same regardless of X_i. This is why we see the flat line on the y-axis. On the x-axis, we show the actual value**\n",
    "\n",
    "5. Add code to your function to measure the running time of your algorithm. How long does it take to compute the predicted values for the test data? **It happens really quick, given it is just the average of the training data and I already calculated this**\n"
   ]
  },
  {
   "cell_type": "markdown",
   "metadata": {},
   "source": [
    "---\n",
    "\n",
    "## Part 2: Nearest Neighbors\n"
   ]
  },
  {
   "cell_type": "markdown",
   "metadata": {},
   "source": [
    "### 2.1 Nearest Neighbors: Distance function\n",
    "Let's try and build a machine learning algorithm to beat the \"Average Value\" baseline that you computed above.  Soon you will implement the Nearest Neighbor algorithm, but first you need to create a distance metric to measure the distance (and similarity) between two instances.  Write a generic function to compute the L-Norm distance (called the [*p*-norm][1] distance on Wikipedia). Verify that your function works by computing the Euclidean distance between the points (3,4) and (6,8).\n",
    "[1]: https://en.wikipedia.org/wiki/Norm_(mathematics)#p-norm"
   ]
  },
  {
   "cell_type": "code",
   "execution_count": 8,
   "metadata": {
    "collapsed": false
   },
   "outputs": [
    {
     "name": "stdout",
     "output_type": "stream",
     "text": [
      "5.0\n"
     ]
    }
   ],
   "source": [
    "\"\"\"\n",
    "Function\n",
    "--------\n",
    "distance\n",
    "\n",
    "Given two instances and a value for L, return the L-Norm distance between them\n",
    "\n",
    "Parameters\n",
    "----------\n",
    "x1, x2 : array\n",
    "    Array of numerical values corresponding to predictions for each of the N observations\n",
    "\n",
    "L: int\n",
    "    Value of L to use in computing distances\n",
    "\n",
    "Returns\n",
    "-------\n",
    "dist : int\n",
    "    The L-norm distance between instances\n",
    "\n",
    "Example\n",
    "-------\n",
    ">>> print(distance((3,4),(6,8),2))\n",
    "5\n",
    "\n",
    "\"\"\"\n",
    "def distance(x1, x2, L=2):\n",
    "    #your code here\n",
    "    dist = \"NaN\"\n",
    "    x1 = np.asarray(x1)\n",
    "    x2 = np.asarray(x2)\n",
    "    \n",
    "    if len(x1)!=len(x2):\n",
    "        return dist\n",
    "    elif len(x1)==0:\n",
    "        return dist\n",
    "    else:\n",
    "        \n",
    "        dist = math.pow(np.sum(abs(np.subtract(x1,x2))**L),1.0/L)\n",
    "    \n",
    "    return dist\n",
    "\n",
    "print(distance((3,4),(6,8),2))"
   ]
  },
  {
   "cell_type": "markdown",
   "metadata": {},
   "source": [
    "### 2.2 Basic Nearest Neighbor algorithm\n",
    "\n",
    "Your next task is to implement a basic nearest neighbor algorithm from scratch.  Your simple model will use two input features (CRIM and RM) and a single output (MEDV).  In other words, you are modelling the relationship between median home value and crime rates and house size.\n",
    "\n",
    "Use your training data (bdata_train) to \"fit\" your model, although as you know, with Nearest Neighbors there is no real training, you just need to keep your training data in memory.  Write a function that predicts the median home value using the nearest neighbor algorithm we discussed in class.  Since this is a small dataset, you can simply compare your test instance to every instance in the training set, and return the MEDV value of the closest training instance.  Have your function take L as an input, where L is passed to the distance function.\n",
    "\n",
    "Make sure to do the following\n",
    "1. Fill in the function specification below\n",
    "2. Use your algorithm to predict the median home value of every instance in the test set. Report the RMSE (\"test RMSE\")\n",
    "3. Use your algorithm to predict the median home value of every instance in the training set and report the training RMSE.\n",
    "4. Create a scatter plot that shows the true value of each instance on the x-axis and the predicted value of each instance on the y-axis. Color the training instances in blue and the test instances in red. \n",
    "5. Report an estimate of the total time taken by your code to predict the nearest neighbors for all the values in the test data set.\n",
    "6. How does the performance (test RMSE and total runtime) of your nearest neighbors algorithm compare to the baseline in part 1.4?"
   ]
  },
  {
   "cell_type": "code",
   "execution_count": 9,
   "metadata": {
    "collapsed": false
   },
   "outputs": [
    {
     "name": "stdout",
     "output_type": "stream",
     "text": [
      "Time taken: 2.1394991874694824 seconds\n",
      "Time taken: 0.56742262840271 seconds\n"
     ]
    },
    {
     "data": {
      "image/png": "[encoded data removed]",
      "text/plain": [
       "<matplotlib.figure.Figure at 0x2303a1e0748>"
      ]
     },
     "metadata": {},
     "output_type": "display_data"
    }
   ],
   "source": [
    "\"\"\"\n",
    "# write your function specification here!\n",
    "#I implemented the K-nearest neighbour algorithm as my method doesn't require a lot of extra overhead to get K=2,....N\n",
    "#note this is not a classification algorithm, it is similar to a regression algorithm\n",
    "#inputs\n",
    "# inputData - a multidimensional numpy array containing the training data\n",
    "# inputTarget  -a singular numpy array contining the target data, in our case house values\n",
    "# desiredCoordinate - this is the multidimensional numpy array (mathcing shape of inputData) that we would like to predict\n",
    "# L this is the value of our L-norm distance function\n",
    "# k is the maximum k that we want to calculate, all k's from 1 to k will be calculated\n",
    "# the function returns an array of thedifferent predictions, rows containing the predictions for each desired coordinate and columns\n",
    "# containing k = 1 ... k\n",
    "\"\"\"\n",
    "##\n",
    "##I just implemented k_nearest neighbors from the start, very little additional overhead to get K = 2,...n, since yyou have to calculate\n",
    "##distance to all points in any case and then sort them\n",
    "##\n",
    "##\n",
    "import time\n",
    "def nneighbor(inputData,inputTarget,desiredCoordinate, L=2,k=1,verbose=1):\n",
    "    start_time = time.time()\n",
    "    #this function will fit knn and do predictions\n",
    "    #inputData is the X data we fit to\n",
    "    #inputTarget is the y data we regress to\n",
    "    #desiredCoordinate is the data that we want to obtain y for using the fitted model\n",
    "    \n",
    "    #your code here\n",
    "    #inputData can be multi dimensional to be given as np.ndarray\n",
    "    #inputTarget is one dimensional np.array\n",
    "    #desiredCoordinate is shame shape as inputData\n",
    "    #we can make this a lot faster by just making our norm function capable of handling multidimensional arrays\n",
    "    \n",
    "    #calculate the distance of all points in inputData to desiredCoordinate\n",
    "    #as mentioned keep everything in memory\n",
    "    numInputs = len(inputData)\n",
    "    #create matrix with number of rows equal to len of input Data and three columns, one for distance, second for median value, third\n",
    "    # is a spare\n",
    "    distanceArray = np.zeros((numInputs,2), dtype=np.float)\n",
    "    #matrix where qwe can store the RMSE for each value of k\n",
    "    kArray = np.zeros((len(desiredCoordinate),k), dtype=np.float)\n",
    "    \n",
    "\n",
    "    \n",
    "    vdistance = np.vectorize(distance)\n",
    "    vcompute_rmse = np.vectorize(compute_rmse)\n",
    "       \n",
    "    #first we loop over size of the desiredCoordinate   \n",
    "    for j in range(0,len(desiredCoordinate)):\n",
    "        #create matrix with number of rows equal to len of input Data and two columns, one for distance, second for median value\n",
    "        distanceArray = np.zeros((numInputs,2), dtype=np.float)\n",
    "        for i in range(0,len(inputData)):\n",
    "            distanceArray[i] = distance(desiredCoordinate[j],inputData[i],L=L),inputTarget[i]\n",
    "        #now we sort this so we can easily calculate k nearest\n",
    "        distanceArray= distanceArray[distanceArray[:, 0].argsort(kind='mergesort')]\n",
    "        #now we simply calculate average of k-nearest neighbors\n",
    "        for kn in range(0,k):\n",
    "            kArray[j,kn] = (sum(distanceArray[:,1][0:kn+1])/(1.*(1+kn)))\n",
    "    if verbose==1:\n",
    "        print(\"Time taken: {} seconds\".format(time.time() - start_time))\n",
    "    return kArray\n",
    "\n",
    "k_n_n = 1\n",
    "L_power = 2\n",
    "\n",
    "predictions_for_Training = nneighbor(trainingData[[\"CRIM\",'RM']].values,trainingTarget[\"MedianValue\"].values,trainingData[[\"CRIM\",'RM']].values,L=L_power,k=k_n_n)\n",
    "trainingRMSE = compute_rmse(predictions_for_Training[:,k_n_n-1],trainingTarget[\"MedianValue\"].values)\n",
    "predictions_for_Testing = nneighbor(trainingData[[\"CRIM\",'RM']].values,trainingTarget[\"MedianValue\"].values,testingData[[\"CRIM\",'RM']].values,L=L_power,k=k_n_n)\n",
    "testingRMSE = compute_rmse(predictions_for_Testing[:,k_n_n-1],testingTarget[\"MedianValue\"].values)\n",
    "#your additional code here\n",
    "\n",
    "fig = plt.figure()\n",
    "ax = plt.gca()\n",
    "\n",
    "plt.title('Scatterplot of the predicted vs actual home values across training and testing sets for K = 1 and L = 2')\n",
    "plt.ylabel('Predicted home values')\n",
    "plt.xlabel('Actual home values')\n",
    "\n",
    "plt.scatter(x=testingTarget[\"MedianValue\"].values,y= predictions_for_Testing[:,k_n_n-1],marker='x',color='red', alpha=0.5, edgecolors='none',\n",
    "           label='Testing Data')\n",
    "plt.scatter(x=trainingTarget[\"MedianValue\"].values,y= predictions_for_Training[:,k_n_n-1],marker='o',color='blue', alpha=0.5, edgecolors='none',\n",
    "           label='Training Data')\n",
    "\n",
    "handles, labels = ax.get_legend_handles_labels()\n",
    "ax.legend(handles, labels)\n",
    "\n",
    "ax.spines['right'].set_visible(False)\n",
    "ax.spines['top'].set_visible(False)\n",
    "plt.tick_params(axis='x',which='both',top='off') # labels along the bottom edge are off\n",
    "plt.tick_params(axis='y',which='both',right='off') # labels along the bottom edge are off\n",
    "\n",
    "plt.show()"
   ]
  },
  {
   "cell_type": "code",
   "execution_count": 10,
   "metadata": {
    "collapsed": false
   },
   "outputs": [
    {
     "name": "stdout",
     "output_type": "stream",
     "text": [
      "RMSE median home values for training set, fit on training set, k = 1 L=2 :0.0\n",
      "RMSE median home values for testing  set, fit on training set, k = 1 L=2 :7.7061727231626245\n"
     ]
    }
   ],
   "source": [
    "print('RMSE median home values for training set, fit on training set, k = ' +str(k_n_n) + ' L='+str(L_power) +' :' +str(trainingRMSE))\n",
    "print('RMSE median home values for testing  set, fit on training set, k = ' +str(k_n_n) + ' L='+str(L_power) +' :' +str(testingRMSE))\n",
    "# print(predictions_for_Testing[:,0])\n",
    "# print(testingTarget[\"MedianValue\"].values)"
   ]
  },
  {
   "cell_type": "markdown",
   "metadata": {},
   "source": [
    "*Enter your observations here*\n",
    "\n",
    "As expected the RMSE when predicting the training set and using k = 1 is zero. Given that the prediction would just equal the real value for that observation.\n",
    "\n",
    "The RMSE for the testing set is 7.706, which is $7706. It took the algorithm 0.52 seconds to compute this. I think it can be done faster with some refactoring, perhaps some vectorization. The time taken is much slower than the baseline in 1.4, some order of magnitude slower. RMSE calc was 0.001 at its slowest and here we have 0.5 to 2 seconds, so 1000x slower.\n",
    "\n",
    "The chart clearly shows the blue dots (forming a line) as expected at 45 degrees, as the predicted value matches the actual value. The red dots clearly show the difference between predict and actual, with the root mean squared error being $7706.\n",
    "\n",
    "\n"
   ]
  },
  {
   "cell_type": "markdown",
   "metadata": {},
   "source": [
    "### 2.3 Results and Normalization\n",
    "\n",
    "If you were being astute, you would have noticed that we never normalized our features -- a big no-no with Nearest Neighbor algorithms.  Write a generic normalization function that takes as input an array of values for a given feature, and returns the normalized array (subtract the mean and divide by the standard deviation).\n",
    "\n",
    "Re-run the Nearest Neighbor algorithm on the normalized dataset (still just using CRIM and RM as input), and compare the RMSE from this method with your previous RMSE evaluations. What do you observe?\n",
    "\n",
    "*NOTE*: To normalize properly, best practice is to compute the mean and standard deviation on the training set, and use these values to normalize the testing dataset. However, for this problem set, it is okay if you separately normalize each dataset using the respective mean and standard deviation."
   ]
  },
  {
   "cell_type": "code",
   "execution_count": 11,
   "metadata": {
    "collapsed": false
   },
   "outputs": [
    {
     "name": "stdout",
     "output_type": "stream",
     "text": [
      "Time taken: 2.170551061630249 seconds\n",
      "Time taken: 0.5423674583435059 seconds\n",
      "normalized RMSE median home values for training set, fit on training set, k = 1 L=2 :0.0\n",
      "normalized RMSE median home values for testing  set, fit on training set, k = 1 L=2 :7.861322545021464\n",
      "my function RMSE median home values for training set, fit on training set, k = 1 L=2 :0.0\n",
      "my function RMSE median home values for testing  set, fit on training set, k = 1 L=2 :7.861322545021464\n",
      "Scikit RMSE median home values for training set, fit on training set, k = 1 L=2 :0.0\n",
      "Scikit RMSE median home values for training set, fit on training set, k = 1 L=2 :7.861322545021464\n"
     ]
    },
    {
     "data": {
      "image/png": "[encoded data removed]",
      "text/plain": [
       "<matplotlib.figure.Figure at 0x2303a1936d8>"
      ]
     },
     "metadata": {},
     "output_type": "display_data"
    }
   ],
   "source": [
    "\"\"\"\n",
    "# write your function specification here!\n",
    "#function to normalize input data\n",
    "#inputs\n",
    "# raw_data is a multidimensional numpy array that will be normalized\n",
    "# **optional is an optional dictionary parameter where you can pass {'norm_data':other multidim np array} where other multidim np array\n",
    "# is potentially another set you want to use to get stdev and mean for normalizing your data\n",
    "# output is just handing back a normalized multideimentional array\n",
    "\"\"\"\n",
    "def normalize(raw_data,**optional):\n",
    "    #your code here\n",
    "    \n",
    "    num_cols = raw_data.shape[1]\n",
    "    num_rows = raw_data.shape[0]\n",
    "    for i in range(0,num_cols):\n",
    "        if 'norm_data' in optional:\n",
    "            num_rows = optional['norm_data'].shape[0]\n",
    "            colMean = sum(optional['norm_data'][:,i]/(1.*num_rows))\n",
    "            colStdDev = math.sqrt((1./num_rows)*sum((optional['norm_data'][:,i]-colMean)**2))\n",
    "        else:\n",
    "            colMean = sum(raw_data[:,i]/(1.*num_rows))\n",
    "            colStdDev = math.sqrt((1./num_rows)*sum((raw_data[:,i]-colMean)**2))\n",
    "        raw_data[:,i]=(raw_data[:,i]-colMean)/colStdDev\n",
    "    \n",
    "    return raw_data\n",
    "normalize(trainingData[[\"CRIM\",'RM']].values)\n",
    "\n",
    "k_n_n=1\n",
    "L_power=2\n",
    "\n",
    "predictions_for_Training = nneighbor(normalize(trainingData[[\"CRIM\",'RM']].values),trainingTarget[\"MedianValue\"].values,\n",
    "                                     normalize(trainingData[[\"CRIM\",'RM']].values),L=L_power,k=k_n_n)\n",
    "trainingRMSE = compute_rmse(predictions_for_Training[:,k_n_n-1],trainingTarget[\"MedianValue\"].values)\n",
    "\n",
    "predictions_for_Testing = nneighbor(normalize(trainingData[[\"CRIM\",'RM']].values),trainingTarget[\"MedianValue\"].values,\n",
    "                                    normalize(testingData[[\"CRIM\",'RM']].values),L=L_power,k=k_n_n)\n",
    "testingRMSE = compute_rmse(predictions_for_Testing[:,k_n_n-1],testingTarget[\"MedianValue\"].values)\n",
    "#your additional code here\n",
    "print('normalized RMSE median home values for training set, fit on training set, k = ' +str(k_n_n) + ' L='+str(L_power) +' :' +str(trainingRMSE))\n",
    "print('normalized RMSE median home values for testing  set, fit on training set, k = ' +str(k_n_n) + ' L='+str(L_power) +' :' +str(testingRMSE))\n",
    "\n",
    "#use Scikit to test my implementation.\n",
    "\n",
    "print('my function RMSE median home values for training set, fit on training set, k = ' +str(k_n_n) + ' L='+str(L_power) +' :' +str(trainingRMSE))\n",
    "print('my function RMSE median home values for testing  set, fit on training set, k = ' +str(k_n_n) + ' L='+str(L_power) +' :' +str(testingRMSE))\n",
    "\n",
    "\n",
    "from sklearn import neighbors\n",
    "\n",
    "knn = neighbors.KNeighborsRegressor(n_neighbors=k_n_n, weights='uniform',p=L_power)\n",
    "y_ = knn.fit(normalize(trainingData[[\"CRIM\",'RM']].values), trainingTarget[\"MedianValue\"].values)\n",
    "trainingRMSE_knn = compute_rmse(y_.predict(normalize(trainingData[[\"CRIM\",'RM']].values)),trainingTarget[\"MedianValue\"].values)\n",
    "print('Scikit RMSE median home values for training set, fit on training set, k = ' +str(k_n_n) + ' L='+str(L_power) +' :' +str(trainingRMSE_knn))\n",
    "testingRMSE_knn = compute_rmse(y_.predict(normalize(testingData[[\"CRIM\",'RM']].values)),testingTarget[\"MedianValue\"].values)\n",
    "print('Scikit RMSE median home values for training set, fit on training set, k = ' +str(k_n_n) + ' L='+str(L_power) +' :' +str(testingRMSE_knn))\n",
    "\n",
    "fig = plt.figure()\n",
    "ax = plt.gca()\n",
    "\n",
    "plt.title('Scatterplot of the predicted vs actual home values across training and testing sets for K = 1 and L = 2 using normalization')\n",
    "plt.ylabel('Predicted home values')\n",
    "plt.xlabel('Actual home values')\n",
    "\n",
    "plt.scatter(x=testingTarget[\"MedianValue\"].values,y= predictions_for_Testing[:,k_n_n-1],marker='x',color='red', alpha=0.5, edgecolors='none',\n",
    "           label='Testing Data')\n",
    "plt.scatter(x=trainingTarget[\"MedianValue\"].values,y= predictions_for_Training[:,k_n_n-1],marker='o',color='blue', alpha=0.5, edgecolors='none',\n",
    "           label='Training Data')\n",
    "\n",
    "handles, labels = ax.get_legend_handles_labels()\n",
    "ax.legend(handles, labels)\n",
    "\n",
    "ax.spines['right'].set_visible(False)\n",
    "ax.spines['top'].set_visible(False)\n",
    "plt.tick_params(axis='x',which='both',top='off') # labels along the bottom edge are off\n",
    "plt.tick_params(axis='y',which='both',right='off') # labels along the bottom edge are off\n",
    "\n",
    "plt.show()"
   ]
  },
  {
   "cell_type": "code",
   "execution_count": 12,
   "metadata": {
    "collapsed": false
   },
   "outputs": [
    {
     "name": "stdout",
     "output_type": "stream",
     "text": [
      "now change k to 5 and L to 5\n",
      "Time taken: 0.6764814853668213 seconds\n",
      "my function RMSE median home values for testing  set, fit on training set, k = 5 L=5 :6.876157442676148\n",
      "Scikit RMSE median home values for testing  set, fit on training set, k = 5 L=5 :6.876157442676148\n"
     ]
    }
   ],
   "source": [
    "#some more testing compared to scikit leanr\n",
    "k_n_n=5\n",
    "L_power=5\n",
    "\n",
    "print('now change k to ' +str(k_n_n)+' and L to '+str(L_power))\n",
    "#seem the same\n",
    "#now test for L (power) = 6 and k = 5\n",
    "predictions_for_Testing = nneighbor(normalize(trainingData[[\"CRIM\",'RM']].values),trainingTarget[\"MedianValue\"].values,\n",
    "                                    normalize(testingData[[\"CRIM\",'RM']].values),L=L_power,k=k_n_n)\n",
    "testingRMSE = compute_rmse(predictions_for_Testing[:,k_n_n-1],testingTarget[\"MedianValue\"].values)\n",
    "print('my function RMSE median home values for testing  set, fit on training set, k = ' +str(k_n_n) + ' L='+str(L_power) +' :' +str(testingRMSE))\n",
    "\n",
    "knn = neighbors.KNeighborsRegressor(n_neighbors=k_n_n, weights='uniform',p=L_power)\n",
    "y_ = knn.fit(normalize(trainingData[[\"CRIM\",'RM']].values), trainingTarget[\"MedianValue\"].values)\n",
    "\n",
    "testingRMSE_knn = compute_rmse(y_.predict(normalize(testingData[[\"CRIM\",'RM']].values)),testingTarget[\"MedianValue\"].values)\n",
    "print('Scikit RMSE median home values for testing  set, fit on training set, k = ' +str(k_n_n) + ' L='+str(L_power) +' :' +str(testingRMSE_knn))"
   ]
  },
  {
   "cell_type": "markdown",
   "metadata": {},
   "source": [
    "*enter your observations here*\n",
    "\n",
    "The speed of the nneighbors algorithm with normalization and without is more or less the same. This is because the normalization function does not add a lot of overhead.\n",
    "\n",
    "The RMSE changed from USD7706.00 for non-normalized data to  USD7861.00 when using normalization with k=1 and L=2 for the testing set.\n",
    "\n",
    "Out of interest I tested my algorithm against sci-kit learn for k = 5 and l = 5 and both return the same RMSEs, so the algorithm seems to work."
   ]
  },
  {
   "cell_type": "markdown",
   "metadata": {},
   "source": [
    "### 2.4 Optimization\n",
    "\n",
    "A lot of the decisions we've made so far have been arbitrary.  Try to increase the performance of your nearest neighbor algorithm by adding features that you think might be relevant, and by using different values of L in the distance function.  Try a model that uses a different set of 2 features, then try at least one model that uses more than 4 features, then try using a different value of L.  If you're having fun, try a few different combinations of features and L!\n",
    "\n",
    "What combination of features and distance function provide the lowest RMSE?  Do your decisions affect the running time of the algorithm?\n",
    "\n",
    "*NOTE:* For this and all subsequent questions, you should use normalized features\n",
    "\n",
    "### BEFORE YOU RUN THE NEXT CELL JUST NOTE IT TAKES 20 MINUTES USING CURRENT SETUP"
   ]
  },
  {
   "cell_type": "code",
   "execution_count": 13,
   "metadata": {
    "collapsed": false
   },
   "outputs": [
    {
     "name": "stdout",
     "output_type": "stream",
     "text": [
      "Total models we will test 2379\n",
      "First best model::k = 1:: L=2:: features=['CRIM', 'ZN']:: train+pred time=0.54938:: RMSE=11.552\n",
      "New best model::k = 1:: L=2:: features=['CRIM', 'INDUS']:: train+pred time=0.55641:: RMSE=9.6625\n",
      "New best model::k = 1:: L=2:: features=['CRIM', 'RM']:: train+pred time=0.53038:: RMSE=7.8613\n",
      "New best model::k = 1:: L=2:: features=['CRIM', 'LSTAT']:: train+pred time=0.61444:: RMSE=7.4972\n",
      "New best model::k = 1:: L=2:: features=['ZN', 'NOX']:: train+pred time=0.53638:: RMSE=7.1232\n",
      "New best model::k = 1:: L=2:: features=['ZN', 'LSTAT']:: train+pred time=0.54839:: RMSE=6.1564\n"
     ]
    },
    {
     "ename": "KeyboardInterrupt",
     "evalue": "",
     "output_type": "error",
     "traceback": [
      "\u001b[1;31m---------------------------------------------------------------------------\u001b[0m",
      "\u001b[1;31mKeyboardInterrupt\u001b[0m                         Traceback (most recent call last)",
      "\u001b[1;32m<ipython-input-13-15c930fa1cc1>\u001b[0m in \u001b[0;36m<module>\u001b[1;34m()\u001b[0m\n\u001b[0;32m     57\u001b[0m     \u001b[0mprint\u001b[0m\u001b[1;33m(\u001b[0m\u001b[1;34m'Bestmodel RMSE :'\u001b[0m\u001b[1;33m+\u001b[0m\u001b[0mstr\u001b[0m\u001b[1;33m(\u001b[0m\u001b[0mbestRMSE\u001b[0m\u001b[1;33m)\u001b[0m\u001b[1;33m)\u001b[0m\u001b[1;33m\u001b[0m\u001b[0m\n\u001b[0;32m     58\u001b[0m \u001b[1;33m\u001b[0m\u001b[0m\n\u001b[1;32m---> 59\u001b[1;33m \u001b[0mOptimizer\u001b[0m\u001b[1;33m(\u001b[0m\u001b[0mtrainingData\u001b[0m\u001b[1;33m,\u001b[0m\u001b[0mtrainingTarget\u001b[0m\u001b[1;33m,\u001b[0m\u001b[0mtestingTarget\u001b[0m\u001b[1;33m,\u001b[0m\u001b[0mfeaturesToTest\u001b[0m\u001b[1;33m,\u001b[0m \u001b[0mL\u001b[0m\u001b[1;33m=\u001b[0m\u001b[0ml_set\u001b[0m\u001b[1;33m,\u001b[0m\u001b[0mk\u001b[0m\u001b[1;33m=\u001b[0m\u001b[0mK_test\u001b[0m\u001b[1;33m,\u001b[0m\u001b[0mdebug\u001b[0m\u001b[1;33m=\u001b[0m\u001b[1;36m0\u001b[0m\u001b[1;33m)\u001b[0m\u001b[1;33m\u001b[0m\u001b[0m\n\u001b[0m",
      "\u001b[1;32m<ipython-input-13-15c930fa1cc1>\u001b[0m in \u001b[0;36mOptimizer\u001b[1;34m(trainingData, trainingTarget, testingTarget, features, L, k, debug)\u001b[0m\n\u001b[0;32m     34\u001b[0m             \u001b[0mstart_time\u001b[0m \u001b[1;33m=\u001b[0m \u001b[0mtime\u001b[0m\u001b[1;33m.\u001b[0m\u001b[0mtime\u001b[0m\u001b[1;33m(\u001b[0m\u001b[1;33m)\u001b[0m\u001b[1;33m\u001b[0m\u001b[0m\n\u001b[0;32m     35\u001b[0m             predictions_for_Testing = nneighbor(normalize(trainingData[j].values),trainingTarget[\"MedianValue\"].values,\n\u001b[1;32m---> 36\u001b[1;33m                                             normalize(testingData[j].values),L=L_power,k=maksK,verbose=0)\n\u001b[0m\u001b[0;32m     37\u001b[0m             \u001b[0mtrain_time\u001b[0m \u001b[1;33m=\u001b[0m \u001b[0mtime\u001b[0m\u001b[1;33m.\u001b[0m\u001b[0mtime\u001b[0m\u001b[1;33m(\u001b[0m\u001b[1;33m)\u001b[0m\u001b[1;33m-\u001b[0m\u001b[0mstart_time\u001b[0m\u001b[1;33m\u001b[0m\u001b[0m\n\u001b[0;32m     38\u001b[0m             \u001b[1;32mfor\u001b[0m \u001b[0mk_n_n\u001b[0m \u001b[1;32min\u001b[0m \u001b[0mrange\u001b[0m\u001b[1;33m(\u001b[0m\u001b[1;36m1\u001b[0m\u001b[1;33m,\u001b[0m\u001b[0mmaksK\u001b[0m\u001b[1;33m+\u001b[0m\u001b[1;36m1\u001b[0m\u001b[1;33m)\u001b[0m\u001b[1;33m:\u001b[0m\u001b[1;33m\u001b[0m\u001b[0m\n",
      "\u001b[1;32m<ipython-input-9-86d3981cec6b>\u001b[0m in \u001b[0;36mnneighbor\u001b[1;34m(inputData, inputTarget, desiredCoordinate, L, k, verbose)\u001b[0m\n\u001b[0;32m     50\u001b[0m         \u001b[0mdistanceArray\u001b[0m \u001b[1;33m=\u001b[0m \u001b[0mnp\u001b[0m\u001b[1;33m.\u001b[0m\u001b[0mzeros\u001b[0m\u001b[1;33m(\u001b[0m\u001b[1;33m(\u001b[0m\u001b[0mnumInputs\u001b[0m\u001b[1;33m,\u001b[0m\u001b[1;36m2\u001b[0m\u001b[1;33m)\u001b[0m\u001b[1;33m,\u001b[0m \u001b[0mdtype\u001b[0m\u001b[1;33m=\u001b[0m\u001b[0mnp\u001b[0m\u001b[1;33m.\u001b[0m\u001b[0mfloat\u001b[0m\u001b[1;33m)\u001b[0m\u001b[1;33m\u001b[0m\u001b[0m\n\u001b[0;32m     51\u001b[0m         \u001b[1;32mfor\u001b[0m \u001b[0mi\u001b[0m \u001b[1;32min\u001b[0m \u001b[0mrange\u001b[0m\u001b[1;33m(\u001b[0m\u001b[1;36m0\u001b[0m\u001b[1;33m,\u001b[0m\u001b[0mlen\u001b[0m\u001b[1;33m(\u001b[0m\u001b[0minputData\u001b[0m\u001b[1;33m)\u001b[0m\u001b[1;33m)\u001b[0m\u001b[1;33m:\u001b[0m\u001b[1;33m\u001b[0m\u001b[0m\n\u001b[1;32m---> 52\u001b[1;33m             \u001b[0mdistanceArray\u001b[0m\u001b[1;33m[\u001b[0m\u001b[0mi\u001b[0m\u001b[1;33m]\u001b[0m \u001b[1;33m=\u001b[0m \u001b[0mdistance\u001b[0m\u001b[1;33m(\u001b[0m\u001b[0mdesiredCoordinate\u001b[0m\u001b[1;33m[\u001b[0m\u001b[0mj\u001b[0m\u001b[1;33m]\u001b[0m\u001b[1;33m,\u001b[0m\u001b[0minputData\u001b[0m\u001b[1;33m[\u001b[0m\u001b[0mi\u001b[0m\u001b[1;33m]\u001b[0m\u001b[1;33m,\u001b[0m\u001b[0mL\u001b[0m\u001b[1;33m=\u001b[0m\u001b[0mL\u001b[0m\u001b[1;33m)\u001b[0m\u001b[1;33m,\u001b[0m\u001b[0minputTarget\u001b[0m\u001b[1;33m[\u001b[0m\u001b[0mi\u001b[0m\u001b[1;33m]\u001b[0m\u001b[1;33m\u001b[0m\u001b[0m\n\u001b[0m\u001b[0;32m     53\u001b[0m         \u001b[1;31m#now we sort this so we can easily calculate k nearest\u001b[0m\u001b[1;33m\u001b[0m\u001b[1;33m\u001b[0m\u001b[0m\n\u001b[0;32m     54\u001b[0m         \u001b[0mdistanceArray\u001b[0m\u001b[1;33m=\u001b[0m \u001b[0mdistanceArray\u001b[0m\u001b[1;33m[\u001b[0m\u001b[0mdistanceArray\u001b[0m\u001b[1;33m[\u001b[0m\u001b[1;33m:\u001b[0m\u001b[1;33m,\u001b[0m \u001b[1;36m0\u001b[0m\u001b[1;33m]\u001b[0m\u001b[1;33m.\u001b[0m\u001b[0margsort\u001b[0m\u001b[1;33m(\u001b[0m\u001b[0mkind\u001b[0m\u001b[1;33m=\u001b[0m\u001b[1;34m'mergesort'\u001b[0m\u001b[1;33m)\u001b[0m\u001b[1;33m]\u001b[0m\u001b[1;33m\u001b[0m\u001b[0m\n",
      "\u001b[1;31mKeyboardInterrupt\u001b[0m: "
     ]
    }
   ],
   "source": [
    "\n",
    "# enter your code here\n",
    "\n",
    "#the various values of L we want to test\n",
    "l_set = [2,3,4]\n",
    "#the various values of K we want to test #assignment only wants us to test k=1 but it works if you do K_test = [1,2,3,4]\n",
    "K_test = [1]\n",
    "#the features we can choose from\n",
    "totalFeatures = ['CRIM', 'ZN', 'INDUS', 'CHAS', 'NOX', 'RM', 'AGE', 'DIS', 'RAD', 'TAX', 'PTRATIO', 'B', 'LSTAT']\n",
    "\n",
    "#generate feature list all combinations of 2 and 4 features\n",
    "#this will be used on our optimizer\n",
    "import itertools\n",
    "featuresToTest = []\n",
    "for i in [2,4]:\n",
    "    test = itertools.combinations(totalFeatures,i)\n",
    "    for i in test:\n",
    "        featuresToTest.append(list(i))\n",
    "\n",
    "def Optimizer(trainingData,trainingTarget,testingTarget,features, L=[1],k=[1],debug=0):\n",
    "    Opt_start_time = time.time()\n",
    "    featurelen = len(features)\n",
    "    bestmodel = ''\n",
    "    bestRMSE = -1.0\n",
    "    featuretoTest = ''\n",
    "    counterAdd = 0\n",
    "    #since there is very little overhead in time (but just in space for each K we want to get, let's just get them all)\n",
    "    maksK = max(K_test)\n",
    "    numberofModelsToTest=len(L)*len(features)*len(k)\n",
    "    print('Total models we will test',numberofModelsToTest)\n",
    "    \n",
    "    for L_power in L:\n",
    "        for j in features:\n",
    "            start_time = time.time()\n",
    "            predictions_for_Testing = nneighbor(normalize(trainingData[j].values),trainingTarget[\"MedianValue\"].values,\n",
    "                                            normalize(testingData[j].values),L=L_power,k=maksK,verbose=0)\n",
    "            train_time = time.time()-start_time\n",
    "            for k_n_n in range(1,maksK+1):\n",
    "                testingRMSE = compute_rmse(predictions_for_Testing[:,k_n_n-1],testingTarget[\"MedianValue\"].values)\n",
    "                model = 'k = ' +str(k_n_n) + ':: L='+str(L_power) +':: features='+str(j) +':: train+pred time='+format(train_time,\"0.5\")+':: RMSE=' +format(testingRMSE,\"0.5\")\n",
    "                if bestRMSE ==-1:\n",
    "                    bestRMSE = testingRMSE\n",
    "                    bestmodel = model\n",
    "                    print('First best model::'+str(bestmodel))\n",
    "                else:\n",
    "                    if testingRMSE < bestRMSE:\n",
    "                        bestmodel = model\n",
    "                        bestRMSE = testingRMSE\n",
    "                        print('New best model::'+str(bestmodel))\n",
    "                if debug==1:\n",
    "                    print('k = ' +str(k_n_n) + ':: L='+str(L_power) +':: features='+str(j) +':: train+pred time='+format(train_time,\"0.5\")\n",
    "                          +':: RMSE=' +format(testingRMSE,\"0.5\"))\n",
    "\n",
    "    print(\"Optimizer Time taken: {} seconds\".format(time.time() - Opt_start_time))\n",
    "    print('Best model is \\n')\n",
    "    print(bestmodel)\n",
    "    print('Bestmodel RMSE :'+str(bestRMSE))\n",
    "\n",
    "Optimizer(trainingData,trainingTarget,testingTarget,featuresToTest, L=l_set,k=K_test,debug=0)"
   ]
  },
  {
   "cell_type": "markdown",
   "metadata": {},
   "source": [
    "*enter your observations here*\n",
    "\n",
    "I wrote a function to optimize across all combinations of 2 features and 4 features, usign values of K = 1 and L being 2,3 or 4. The model with the lowest RMSE was k = 1:: L=4:: features=['CHAS', 'NOX', 'PTRATIO', 'LSTAT'], and the RMSE was 5.23803. It took about 20 minutes to complete.\n",
    "\n",
    "\n",
    "# OUTPUT FROM OPTIMIZER\n",
    "\n",
    "Total models we will test 2379\n",
    "\n",
    "First best model::k = 1:: L=2:: features=['CRIM', 'ZN']:: train+pred time=0.97869:: RMSE=11.552\n",
    "\n",
    "New best model::k = 1:: L=2:: features=['CRIM', 'INDUS']:: train+pred time=0.66648:: RMSE=9.6625\n",
    "\n",
    "New best model::k = 1:: L=2:: features=['CRIM', 'RM']:: train+pred time=0.51338:: RMSE=7.8613\n",
    "\n",
    "New best model::k = 1:: L=2:: features=['CRIM', 'LSTAT']:: train+pred time=0.60243:: RMSE=7.4972\n",
    "\n",
    "New best model::k = 1:: L=2:: features=['ZN', 'NOX']:: train+pred time=0.55039:: RMSE=7.1232\n",
    "\n",
    "New best model::k = 1:: L=2:: features=['ZN', 'LSTAT']:: train+pred time=0.50736:: RMSE=6.1564\n",
    "\n",
    "New best model::k = 1:: L=2:: features=['PTRATIO', 'LSTAT']:: train+pred time=0.50636:: RMSE=5.9416\n",
    "\n",
    "New best model::k = 1:: L=2:: features=['CRIM', 'ZN', 'AGE', 'LSTAT']:: train+pred time=0.50536:: RMSE=5.9366\n",
    "\n",
    "New best model::k = 1:: L=2:: features=['CRIM', 'CHAS', 'RM', 'LSTAT']:: train+pred time=0.50834:: RMSE=5.6768\n",
    "\n",
    "New best model::k = 1:: L=2:: features=['CRIM', 'NOX', 'PTRATIO', 'LSTAT']:: train+pred time=0.50536:: RMSE=5.324\n",
    "\n",
    "New best model::k = 1:: L=2:: features=['CHAS', 'NOX', 'PTRATIO', 'LSTAT']:: train+pred time=0.50838:: RMSE=5.2384\n",
    "\n",
    "New best model::k = 1:: L=4:: features=['CHAS', 'NOX', 'PTRATIO', 'LSTAT']:: train+pred time=0.57041:: RMSE=5.238\n",
    "\n",
    "Optimizer Time taken: 1315.4415428638458 seconds\n",
    "\n",
    "Best model is \n",
    "k = 1:: L=4:: features=['CHAS', 'NOX', 'PTRATIO', 'LSTAT']:: train+pred time=0.57041:: RMSE=5.238\n",
    "\n",
    "Bestmodel RMSE :5.23803023896519"
   ]
  },
  {
   "cell_type": "markdown",
   "metadata": {},
   "source": [
    "### 2.5 Cross-Validation\n",
    "\n",
    "The more you tinkered with your features and distance function, the higher the risk that you overfit your training data.  One solution to this sort of overfitting is to use cross-validation (see K-fold [cross-validation][1].  Here you must implement a simple k-fold cross-validation algorithm yourself.  The function you write here will be used several more times in this problem set, so do your best to write efficient code! (Note that the sklearn package has a built-in [K-fold][2] iterator -- you should *not* be invoking that or any related algorithms in this section of the problem set.)\n",
    "\n",
    "Use 10-fold cross-validation and report the average RMSE for Nearest Neighbors using Euclidean distance with CRIM and RM input features, as well as the total running time for the full run of 10 folds.  In other words, randomly divide your dataset into 10 equally-sized samples, and for each of 10 iterations (the \"folds\"), use 9 samples as \"training data\" (even though there is no training in k-NN!), and the remaining 1 sample for testing.  Compute the RMSE of that particular test set, then move on to the next iteration.  Report the average RMSE across the 10 iterations. What do you observe?\n",
    "[1]: http://en.wikipedia.org/wiki/Cross-validation_(statistics)\n",
    "[2]: http://scikit-learn.org/stable/modules/cross_validation.html#cross-validation"
   ]
  },
  {
   "cell_type": "code",
   "execution_count": 15,
   "metadata": {
    "collapsed": false
   },
   "outputs": [
    {
     "name": "stdout",
     "output_type": "stream",
     "text": [
      "RMSE for fold 0 is and k = 1 is 5.1553\n",
      "RMSE for fold 1 is and k = 1 is 5.357\n",
      "RMSE for fold 2 is and k = 1 is 5.3604\n",
      "RMSE for fold 3 is and k = 1 is 7.1829\n",
      "RMSE for fold 4 is and k = 1 is 5.0504\n",
      "RMSE for fold 5 is and k = 1 is 9.1019\n",
      "RMSE for fold 6 is and k = 1 is 4.5258\n",
      "RMSE for fold 7 is and k = 1 is 4.4466\n",
      "RMSE for fold 8 is and k = 1 is 11.498\n",
      "RMSE for fold 9 is and k = 1 is 5.0924\n",
      "Avg RMSE for k = 1 is 6.2771\n",
      "CV Time taken: 2.189554452896118 seconds\n"
     ]
    }
   ],
   "source": [
    "\n",
    "# enter your code here\n",
    "\n",
    "#cross validation function\n",
    "#inputs\n",
    "# trainingData - training data in numpy array\n",
    "# trainingTarget -  associated target data in one dimensional numpy array\n",
    "# features - features we want to run training on\n",
    "# folds - number of folds\n",
    "# L - Lnorm\n",
    "# k - knn parameter, this is a list, but should really only have to enter one variable and all Ks from 1 to k will be calculated\n",
    "# debug - additional parameter I used to debug my code\n",
    "# shuffleData - do we want to shuffle data before we do CV\n",
    "# verbose - just a variable to trigger levels of print output\n",
    "\n",
    "def Cross_Validation(trainingData,trainingTarget,features,folds = 10,L=1,k=[1],debug=0,shuffleData=False,verbose=0):\n",
    "    ##note this assumes our trainingData and trainingTarget sets are already shuffled\n",
    "    start_time = time.time()\n",
    "    countofData = len(trainingData)\n",
    "    fullList = np.arange(countofData)\n",
    "    if shuffleData:  \n",
    "        #create array of index values that we will use to shuffle our data\n",
    "        fullList = np.random.permutation(countofData)\n",
    "\n",
    "    testFoldIndices = []\n",
    "    trainFoldIndices = []\n",
    "    #we will cut off soem data inherently in this calc\n",
    "    maksK = max(k)\n",
    "    gap = int(countofData/folds)\n",
    "    avgRMSE = np.zeros(maksK)\n",
    "    RMSE = [0.0]*maksK\n",
    "\n",
    "\n",
    "    #now we just slice the data into n folds\n",
    "    for i in range(0,folds):\n",
    "        startC = i*gap\n",
    "        endC = (i+1)*gap\n",
    "        #determine the indices to use\n",
    "        testFoldIndices.append(np.asarray(list(set(fullList[startC:endC]))))\n",
    "        trainFoldIndices.append(np.asarray(list(set(fullList)-set(testFoldIndices[i]))))\n",
    "\n",
    "        #get data to make it simpler later\n",
    "        trainDataFold = trainingData.iloc[trainFoldIndices[i]]\n",
    "        trainTargetFold = trainingTarget.iloc[trainFoldIndices[i]]\n",
    "        testDataFold = trainingData.iloc[testFoldIndices[i]]\n",
    "        testTargetFold = trainingTarget.iloc[testFoldIndices[i]]\n",
    "        #fit and predict\n",
    "        predictions = nneighbor(normalize(trainDataFold[features].values),trainTargetFold[\"MedianValue\"].values,\n",
    "                                            normalize(testDataFold[features].values),L=L,k=maksK,verbose=verbose)\n",
    "        \n",
    "        #here we create an array avgRMSE and for each k we just add the RMSE\n",
    "        for kk in range(0,maksK):\n",
    "            RMSE[kk] = compute_rmse(predictions[:,kk],testTargetFold[\"MedianValue\"].values)\n",
    "            avgRMSE[kk] = avgRMSE[kk] + RMSE[kk]\n",
    "        \n",
    "        if debug ==1:\n",
    "            if verbose==1:\n",
    "                print(\"Fold\" + str(i) +'test index is ' + str(testFoldIndices[i]))\n",
    "                print(\"Fold\" + str(i) +'train index is ' + str(trainFoldIndices[i]))\n",
    "            for kk in range(0,maksK):\n",
    "                print('RMSE for fold '+format(i,\"0\")+' is and k = '+str(kk+1)+ ' is ' + format(RMSE[kk],\"0.5\"))\n",
    "        \n",
    "\n",
    "    avgRMSE = avgRMSE/folds\n",
    "    if debug==1:\n",
    "        for kk in range(0,maksK):\n",
    "            print('Avg RMSE for k = '+str(kk+1)+ ' is ' + format(avgRMSE[kk],\"0.5\"))\n",
    "    print(\"CV Time taken: {} seconds\".format(time.time() - start_time))       \n",
    "    return avgRMSE\n",
    "\n",
    "\n",
    "features = ['CRIM','RM']    \n",
    "k_list = [1]\n",
    "avgRMSE = Cross_Validation(trainingData,trainingTarget,features = features, \n",
    "                                   folds = 10,L=2,k=k_list,debug=1,shuffleData=False,verbose=0)\n",
    "\n"
   ]
  },
  {
   "cell_type": "markdown",
   "metadata": {},
   "source": [
    "*enter your observations here*\n",
    "\n",
    "The k-fold cross validator divided the data into 10 non-overlapping chunks of testing data and then fitted the nearest neighbor algorithm. We can see that the RMSE varies quite a bit, minimum being 4.44 and maximum being 11.498. The average RMSE is 6.2771k. This CV model for K = 1 and L = 2 is thus a lot better than our previous RMSE  for the 80% train and 20% test model of 7.861k"
   ]
  },
  {
   "cell_type": "markdown",
   "metadata": {},
   "source": [
    "### 2.6 K-Nearest Neighbors Algorithm\n",
    "\n",
    "Implement the K-Nearest Neighbors algorithm.  Using 10-fold cross validation and L2 normalization, report the RMSE for K=3 and the running time of the algorithm."
   ]
  },
  {
   "cell_type": "code",
   "execution_count": 16,
   "metadata": {
    "collapsed": false
   },
   "outputs": [
    {
     "name": "stdout",
     "output_type": "stream",
     "text": [
      "RMSE for fold 0 is and k = 1 is 5.1553\n",
      "RMSE for fold 0 is and k = 2 is 4.2484\n",
      "RMSE for fold 0 is and k = 3 is 3.7175\n",
      "RMSE for fold 1 is and k = 1 is 5.357\n",
      "RMSE for fold 1 is and k = 2 is 4.4925\n",
      "RMSE for fold 1 is and k = 3 is 4.076\n",
      "RMSE for fold 2 is and k = 1 is 5.3604\n",
      "RMSE for fold 2 is and k = 2 is 5.4632\n",
      "RMSE for fold 2 is and k = 3 is 4.7089\n",
      "RMSE for fold 3 is and k = 1 is 7.1829\n",
      "RMSE for fold 3 is and k = 2 is 7.0306\n",
      "RMSE for fold 3 is and k = 3 is 5.8358\n",
      "RMSE for fold 4 is and k = 1 is 5.0504\n",
      "RMSE for fold 4 is and k = 2 is 4.3012\n",
      "RMSE for fold 4 is and k = 3 is 4.3567\n",
      "RMSE for fold 5 is and k = 1 is 9.1019\n",
      "RMSE for fold 5 is and k = 2 is 8.7279\n",
      "RMSE for fold 5 is and k = 3 is 8.3769\n",
      "RMSE for fold 6 is and k = 1 is 4.5258\n",
      "RMSE for fold 6 is and k = 2 is 4.6392\n",
      "RMSE for fold 6 is and k = 3 is 4.4691\n",
      "RMSE for fold 7 is and k = 1 is 4.4466\n",
      "RMSE for fold 7 is and k = 2 is 4.7925\n",
      "RMSE for fold 7 is and k = 3 is 4.4857\n",
      "RMSE for fold 8 is and k = 1 is 11.498\n",
      "RMSE for fold 8 is and k = 2 is 11.27\n",
      "RMSE for fold 8 is and k = 3 is 11.058\n",
      "RMSE for fold 9 is and k = 1 is 5.0924\n",
      "RMSE for fold 9 is and k = 2 is 4.6269\n",
      "RMSE for fold 9 is and k = 3 is 4.1743\n",
      "Avg RMSE for k = 1 is 6.2771\n",
      "Avg RMSE for k = 2 is 5.9592\n",
      "Avg RMSE for k = 3 is 5.5259\n",
      "CV Time taken: 2.022439479827881 seconds\n"
     ]
    }
   ],
   "source": [
    "\"\"\"\n",
    "# write your function specification here!\n",
    "\"\"\"\n",
    "#same as the nneighbors function above...for reasons stated above, getting more k ads little overhead\n",
    "def knn(inputData,inputTarget,desiredCoordinate, L=2,k=1,verbose=1):\n",
    "    start_time = time.time()\n",
    "    #this function will fit knn and do predictions\n",
    "    #inputData is the X data we fit to\n",
    "    #inputTarget is the y data we regress to\n",
    "    #desiredCoordinate is the data that we want to obtain y for using the fitted model\n",
    "    \n",
    "    #your code here\n",
    "    #inputData can be multi dimensional to be given as np.ndarray\n",
    "    #inputTarget is one dimensional np.array\n",
    "    #desiredCoordinate is shame shape as inputData\n",
    "    #we can make this a lot faster by just making our norm function capable of handling multidimensional arrays\n",
    "    \n",
    "    #calculate the distance of all points in inputData to desiredCoordinate\n",
    "    #as mentioned keep everything in memory\n",
    "    numInputs = len(inputData)\n",
    "    #create matrix with number of rows equal to len of input Data and three columns, one for distance, second for median value, third\n",
    "    # is a spare\n",
    "    distanceArray = np.zeros((numInputs,2), dtype=np.float)\n",
    "    #matrix where qwe can store the RMSE for each value of k\n",
    "    kArray = np.zeros((len(desiredCoordinate),k), dtype=np.float)\n",
    "    \n",
    "\n",
    "    \n",
    "    vdistance = np.vectorize(distance)\n",
    "    vcompute_rmse = np.vectorize(compute_rmse)\n",
    "       \n",
    "    #first we loop over size of the desiredCoordinate   \n",
    "    for j in range(0,len(desiredCoordinate)):\n",
    "        #create matrix with number of rows equal to len of input Data and two columns, one for distance, second for median value\n",
    "        distanceArray = np.zeros((numInputs,2), dtype=np.float)\n",
    "        for i in range(0,len(inputData)):\n",
    "            distanceArray[i] = distance(desiredCoordinate[j],inputData[i],L=L),inputTarget[i]\n",
    "        #now we sort this so we can easily calculate k nearest\n",
    "        distanceArray= distanceArray[distanceArray[:, 0].argsort(kind='mergesort')]\n",
    "        #now we simply calculate average of k-nearest neighbors\n",
    "        for kn in range(0,k):\n",
    "            kArray[j,kn] = (sum(distanceArray[:,1][0:kn+1])/(1.*(1+kn)))\n",
    "    if verbose==1:\n",
    "        print(\"Time taken: {} seconds\".format(time.time() - start_time))\n",
    "    return kArray\n",
    "\n",
    "# enter your additional code here\n",
    "\n",
    "features = ['CRIM','RM']    \n",
    "k_list = [3]\n",
    "avgRMSE = Cross_Validation(trainingData,trainingTarget,features = features, \n",
    "                                   folds = 10,L=2,k=k_list,debug=1,shuffleData=False,verbose=0)\n",
    "\n"
   ]
  },
  {
   "cell_type": "markdown",
   "metadata": {},
   "source": [
    "### 2.7 Using cross validation to find K\n",
    "\n",
    "What is the best choice of K?  Compute the RMSE for values of K between 1 and 25 using 10-fold cross-validation.  Use the following features in your model, and don't forget to normalize: CRIM, ZN, RM, AGE, DIS, TAX.  Create a graph that shows how RMSE changes as K increases from 1 to 25.  Label your axes, and summarize what you see.  What do you think is a reasonable choice of K for this model?"
   ]
  },
  {
   "cell_type": "code",
   "execution_count": 19,
   "metadata": {
    "collapsed": false
   },
   "outputs": [
    {
     "name": "stdout",
     "output_type": "stream",
     "text": [
      "CV Time taken: 2.189556360244751 seconds\n",
      "Average RMSE for 10 fold CV using features ['CRIM', 'RM'], L = 2 and k = 1 is 7.2104\n",
      "Average RMSE for 10 fold CV using features ['CRIM', 'RM'], L = 2 and k = 2 is 6.5011\n",
      "Average RMSE for 10 fold CV using features ['CRIM', 'RM'], L = 2 and k = 3 is 6.3561\n",
      "Average RMSE for 10 fold CV using features ['CRIM', 'RM'], L = 2 and k = 4 is 6.2313\n",
      "Average RMSE for 10 fold CV using features ['CRIM', 'RM'], L = 2 and k = 5 is 6.1363\n",
      "Average RMSE for 10 fold CV using features ['CRIM', 'RM'], L = 2 and k = 6 is 6.039\n",
      "Average RMSE for 10 fold CV using features ['CRIM', 'RM'], L = 2 and k = 7 is 5.9924\n",
      "Average RMSE for 10 fold CV using features ['CRIM', 'RM'], L = 2 and k = 8 is 5.9778\n",
      "Average RMSE for 10 fold CV using features ['CRIM', 'RM'], L = 2 and k = 9 is 5.9616\n",
      "Average RMSE for 10 fold CV using features ['CRIM', 'RM'], L = 2 and k = 10 is 5.9537\n",
      "Average RMSE for 10 fold CV using features ['CRIM', 'RM'], L = 2 and k = 11 is 5.9591\n",
      "Average RMSE for 10 fold CV using features ['CRIM', 'RM'], L = 2 and k = 12 is 5.9506\n",
      "Average RMSE for 10 fold CV using features ['CRIM', 'RM'], L = 2 and k = 13 is 5.9538\n",
      "Average RMSE for 10 fold CV using features ['CRIM', 'RM'], L = 2 and k = 14 is 5.9413\n",
      "Average RMSE for 10 fold CV using features ['CRIM', 'RM'], L = 2 and k = 15 is 5.9437\n",
      "Average RMSE for 10 fold CV using features ['CRIM', 'RM'], L = 2 and k = 16 is 5.9112\n",
      "Average RMSE for 10 fold CV using features ['CRIM', 'RM'], L = 2 and k = 17 is 5.879\n",
      "Average RMSE for 10 fold CV using features ['CRIM', 'RM'], L = 2 and k = 18 is 5.8973\n",
      "Average RMSE for 10 fold CV using features ['CRIM', 'RM'], L = 2 and k = 19 is 5.8881\n",
      "Average RMSE for 10 fold CV using features ['CRIM', 'RM'], L = 2 and k = 20 is 5.9007\n",
      "Average RMSE for 10 fold CV using features ['CRIM', 'RM'], L = 2 and k = 21 is 5.8985\n",
      "Average RMSE for 10 fold CV using features ['CRIM', 'RM'], L = 2 and k = 22 is 5.9091\n",
      "Average RMSE for 10 fold CV using features ['CRIM', 'RM'], L = 2 and k = 23 is 5.9019\n",
      "Average RMSE for 10 fold CV using features ['CRIM', 'RM'], L = 2 and k = 24 is 5.9029\n",
      "Average RMSE for 10 fold CV using features ['CRIM', 'RM'], L = 2 and k = 25 is 5.917\n"
     ]
    }
   ],
   "source": [
    "# enter your code here\n",
    "features_final = ['CRIM','RM']\n",
    "k_list=[25]\n",
    "\n",
    "avgRMSE = Cross_Validation(trainingData,trainingTarget,features = features_final,\n",
    "                           folds = 25,L=2,k=k_list,debug=0,shuffleData=False,verbose=0)\n",
    "for kk in range(0,max(k_list)):\n",
    "    print('Average RMSE for 10 fold CV using features '+str(features_final)+', L = 2 and k = '+str(kk+1)+' is ' +format(avgRMSE[kk],\"0.5\"))\n",
    "    "
   ]
  },
  {
   "cell_type": "code",
   "execution_count": 20,
   "metadata": {
    "collapsed": false
   },
   "outputs": [
    {
     "data": {
      "image/png": "[encoded data removed]",
      "text/plain": [
       "<matplotlib.figure.Figure at 0x2303a19a0b8>"
      ]
     },
     "metadata": {},
     "output_type": "display_data"
    }
   ],
   "source": [
    "%matplotlib inline\n",
    "\n",
    "fig = plt.figure()\n",
    "ax = plt.gca()\n",
    "\n",
    "plt.title('Plot of average RMSE for 10-fold cross validation as K changes from 1 to 25')\n",
    "plt.ylabel('Average RMSE')\n",
    "plt.xlabel('k')\n",
    "\n",
    "plt.scatter(x=range(1,26),y= avgRMSE,marker='x',color='blue', alpha=0.5, edgecolors='none',\n",
    "           label='CV average RMSE')\n",
    "\n",
    "\n",
    "# handles, labels = ax.get_legend_handles_labels()\n",
    "# ax.legend(handles, labels)\n",
    "\n",
    "ax.spines['right'].set_visible(False)\n",
    "ax.spines['top'].set_visible(False)\n",
    "plt.tick_params(axis='x',which='both',top='off') # labels along the bottom edge are off\n",
    "plt.tick_params(axis='y',which='both',right='off') # labels along the bottom edge are off\n",
    "\n",
    "plt.show()\n"
   ]
  },
  {
   "cell_type": "markdown",
   "metadata": {},
   "source": [
    "*Enter your observations here*\n",
    "\n",
    "A reasonable choice of K would be K=3. This is where the RMSE is the lowest and following which it starts to trend upwards."
   ]
  },
  {
   "cell_type": "markdown",
   "metadata": {},
   "source": [
    "### Extra-Credit: Forward selection\n",
    "\n",
    "Thus far the choice of predictor variables has been rather arbitrary. For extra credit, implement a basic [forward selection](http://www.stat.ubc.ca/~rollin/teach/643w04/lec/node41.html) algorithm to progressively include features that decrease the cross-validated RMSE of the model. Note that the optimal value of K may be different for each model, so you may want to use cross-validation to choose K each time (but it is also fine if you fix K at the optimal value from 2.7).  Create a graph that shows RMSE as a function of the number of features in the model. Label each point on the x-axis with the name of the feature that is added at that step in the forward selection algorithm. *(For instance, if the optimal single-feature model has CRIM with RMSE = 10, and the optimal two-feature model has CRIM+ZN with RMSE=9, the first x-axis label will say CRIM and the second x-axis lable with say ZN)*"
   ]
  },
  {
   "cell_type": "code",
   "execution_count": 62,
   "metadata": {
    "collapsed": false
   },
   "outputs": [
    {
     "name": "stdout",
     "output_type": "stream",
     "text": [
      "CV Time taken: 2.036466598510742 seconds\n",
      "CV Time taken: 2.2115535736083984 seconds\n",
      "CV Time taken: 2.125530481338501 seconds\n"
     ]
    },
    {
     "name": "stderr",
     "output_type": "stream",
     "text": [
      "c:\\program files\\python 3.5\\lib\\site-packages\\ipykernel_launcher.py:23: RuntimeWarning: invalid value encountered in true_divide\n"
     ]
    },
    {
     "name": "stdout",
     "output_type": "stream",
     "text": [
      "CV Time taken: 2.183044672012329 seconds\n",
      "CV Time taken: 2.1865718364715576 seconds\n",
      "CV Time taken: 2.2555854320526123 seconds\n",
      "CV Time taken: 2.0534608364105225 seconds\n",
      "CV Time taken: 2.0644850730895996 seconds\n",
      "CV Time taken: 1.9704008102416992 seconds\n",
      "CV Time taken: 1.9373769760131836 seconds\n",
      "CV Time taken: 2.1715261936187744 seconds\n",
      "CV Time taken: 1.965388536453247 seconds\n",
      "CV Time taken: 1.9764246940612793 seconds\n",
      "Result for feature:  1\n",
      "['LSTAT']\n",
      "[25]\n",
      "[6.0720959987828165]\n",
      "CV Time taken: 2.0204365253448486 seconds\n",
      "CV Time taken: 2.005425214767456 seconds\n",
      "CV Time taken: 1.9913966655731201 seconds\n",
      "CV Time taken: 2.0144340991973877 seconds\n",
      "CV Time taken: 2.007444381713867 seconds\n",
      "CV Time taken: 1.9944007396697998 seconds\n",
      "CV Time taken: 2.1855533123016357 seconds\n",
      "CV Time taken: 2.7039175033569336 seconds\n",
      "CV Time taken: 2.153550148010254 seconds\n",
      "CV Time taken: 2.2145731449127197 seconds\n",
      "CV Time taken: 2.247616767883301 seconds\n",
      "CV Time taken: 2.174546003341675 seconds\n",
      "Result for feature:  2\n",
      "['LSTAT', 'RM']\n",
      "[25, 21]\n",
      "[6.0720959987828165, 4.6637861551367426]\n",
      "CV Time taken: 2.051459789276123 seconds\n",
      "CV Time taken: 2.053475856781006 seconds\n",
      "CV Time taken: 2.01241397857666 seconds\n",
      "CV Time taken: 2.0314419269561768 seconds\n",
      "CV Time taken: 2.0124497413635254 seconds\n",
      "CV Time taken: 2.0374491214752197 seconds\n",
      "CV Time taken: 2.015432357788086 seconds\n",
      "CV Time taken: 2.015413761138916 seconds\n",
      "CV Time taken: 2.0094289779663086 seconds\n",
      "CV Time taken: 2.1215078830718994 seconds\n",
      "CV Time taken: 2.1385209560394287 seconds\n",
      "Result for feature:  3\n",
      "['LSTAT', 'RM', 'TAX']\n",
      "[25, 21, 18]\n",
      "[6.0720959987828165, 4.6637861551367426, 4.3592884957603424]\n",
      "CV Time taken: 2.022456645965576 seconds\n",
      "CV Time taken: 2.0044057369232178 seconds\n",
      "CV Time taken: 2.0294623374938965 seconds\n",
      "CV Time taken: 2.0134313106536865 seconds\n",
      "CV Time taken: 2.173562526702881 seconds\n",
      "CV Time taken: 2.00142240524292 seconds\n",
      "CV Time taken: 2.0194554328918457 seconds\n",
      "CV Time taken: 2.038431167602539 seconds\n",
      "CV Time taken: 2.0264577865600586 seconds\n",
      "CV Time taken: 2.022437572479248 seconds\n",
      "Result for feature:  4\n",
      "['LSTAT', 'RM', 'TAX', 'PTRATIO']\n",
      "[25, 21, 18, 10]\n",
      "[6.0720959987828165, 4.6637861551367426, 4.3592884957603424, 4.2757574921713779]\n",
      "CV Time taken: 2.030425786972046 seconds\n",
      "CV Time taken: 2.180548906326294 seconds\n",
      "CV Time taken: 1.990415096282959 seconds\n",
      "CV Time taken: 2.1775481700897217 seconds\n",
      "CV Time taken: 3.1212189197540283 seconds\n",
      "CV Time taken: 2.993147611618042 seconds\n",
      "CV Time taken: 2.190537929534912 seconds\n",
      "CV Time taken: 2.4637537002563477 seconds\n",
      "CV Time taken: 2.0604636669158936 seconds\n",
      "Result for feature:  5\n",
      "['LSTAT', 'RM', 'TAX', 'PTRATIO', 'AGE']\n",
      "[25, 21, 18, 10, 5]\n",
      "[6.0720959987828165, 4.6637861551367426, 4.3592884957603424, 4.2757574921713779, 4.1902558926286204]\n",
      "CV Time taken: 2.0524587631225586 seconds\n",
      "CV Time taken: 2.3516905307769775 seconds\n",
      "CV Time taken: 2.0314252376556396 seconds\n",
      "CV Time taken: 2.0224392414093018 seconds\n",
      "CV Time taken: 2.0244388580322266 seconds\n",
      "CV Time taken: 2.0764944553375244 seconds\n",
      "CV Time taken: 2.244577646255493 seconds\n",
      "CV Time taken: 2.2936480045318604 seconds\n",
      "Result for feature:  6\n",
      "['LSTAT', 'RM', 'TAX', 'PTRATIO', 'AGE', 'B']\n",
      "[25, 21, 18, 10, 5, 5]\n",
      "[6.0720959987828165, 4.6637861551367426, 4.3592884957603424, 4.2757574921713779, 4.1902558926286204, 4.0921745112583841]\n",
      "CV Time taken: 2.817000389099121 seconds\n",
      "CV Time taken: 3.1062257289886475 seconds\n",
      "CV Time taken: 2.7729523181915283 seconds\n",
      "CV Time taken: 2.921076774597168 seconds\n",
      "CV Time taken: 2.05546236038208 seconds\n",
      "CV Time taken: 2.026458978652954 seconds\n",
      "CV Time taken: 2.4317288398742676 seconds\n",
      "Result for feature:  7\n",
      "['LSTAT', 'RM', 'TAX', 'PTRATIO', 'AGE', 'B', 'RAD']\n",
      "[25, 21, 18, 10, 5, 5, 5]\n",
      "[6.0720959987828165, 4.6637861551367426, 4.3592884957603424, 4.2757574921713779, 4.1902558926286204, 4.0921745112583841, 4.0851742447087718]\n",
      "CV Time taken: 2.038465976715088 seconds\n",
      "CV Time taken: 2.078479051589966 seconds\n",
      "CV Time taken: 2.4497387409210205 seconds\n",
      "CV Time taken: 2.586838722229004 seconds\n",
      "CV Time taken: 2.745953321456909 seconds\n",
      "CV Time taken: 2.242593765258789 seconds\n",
      "Result for feature:  8\n",
      "['LSTAT', 'RM', 'TAX', 'PTRATIO', 'AGE', 'B', 'RAD', 'NOX']\n",
      "[25, 21, 18, 10, 5, 5, 5, 4]\n",
      "[6.0720959987828165, 4.6637861551367426, 4.3592884957603424, 4.2757574921713779, 4.1902558926286204, 4.0921745112583841, 4.0851742447087718, 4.1107635709393513]\n",
      "CV Time taken: 2.684908628463745 seconds\n",
      "CV Time taken: 2.407715082168579 seconds\n",
      "CV Time taken: 2.4637670516967773 seconds\n",
      "CV Time taken: 2.5077648162841797 seconds\n",
      "CV Time taken: 2.541821002960205 seconds\n",
      "Result for feature:  9\n",
      "['LSTAT', 'RM', 'TAX', 'PTRATIO', 'AGE', 'B', 'RAD', 'NOX', 'DIS']\n",
      "[25, 21, 18, 10, 5, 5, 5, 4, 3]\n",
      "[6.0720959987828165, 4.6637861551367426, 4.3592884957603424, 4.2757574921713779, 4.1902558926286204, 4.0921745112583841, 4.0851742447087718, 4.1107635709393513, 4.0530584724921832]\n",
      "CV Time taken: 2.3616766929626465 seconds\n",
      "CV Time taken: 2.2246272563934326 seconds\n",
      "CV Time taken: 2.2435951232910156 seconds\n",
      "CV Time taken: 2.2566044330596924 seconds\n",
      "Result for feature:  10\n",
      "['LSTAT', 'RM', 'TAX', 'PTRATIO', 'AGE', 'B', 'RAD', 'NOX', 'DIS', 'INDUS']\n",
      "[25, 21, 18, 10, 5, 5, 5, 4, 3, 3]\n",
      "[6.0720959987828165, 4.6637861551367426, 4.3592884957603424, 4.2757574921713779, 4.1902558926286204, 4.0921745112583841, 4.0851742447087718, 4.1107635709393513, 4.0530584724921832, 4.0239898370781173]\n",
      "CV Time taken: 2.171762228012085 seconds\n",
      "CV Time taken: 2.4957571029663086 seconds\n",
      "CV Time taken: 2.0024235248565674 seconds\n",
      "Result for feature:  11\n",
      "['LSTAT', 'RM', 'TAX', 'PTRATIO', 'AGE', 'B', 'RAD', 'NOX', 'DIS', 'INDUS', 'ZN']\n",
      "[25, 21, 18, 10, 5, 5, 5, 4, 3, 3, 3]\n",
      "[6.0720959987828165, 4.6637861551367426, 4.3592884957603424, 4.2757574921713779, 4.1902558926286204, 4.0921745112583841, 4.0851742447087718, 4.1107635709393513, 4.0530584724921832, 4.0239898370781173, 4.1016470153204896]\n",
      "CV Time taken: 2.1495277881622314 seconds\n",
      "CV Time taken: 2.1945583820343018 seconds\n",
      "Result for feature:  12\n",
      "['LSTAT', 'RM', 'TAX', 'PTRATIO', 'AGE', 'B', 'RAD', 'NOX', 'DIS', 'INDUS', 'ZN', 'CRIM']\n",
      "[25, 21, 18, 10, 5, 5, 5, 4, 3, 3, 3, 3]\n",
      "[6.0720959987828165, 4.6637861551367426, 4.3592884957603424, 4.2757574921713779, 4.1902558926286204, 4.0921745112583841, 4.0851742447087718, 4.1107635709393513, 4.0530584724921832, 4.0239898370781173, 4.1016470153204896, 4.2441094902978103]\n",
      "CV Time taken: 2.1095190048217773 seconds\n",
      "Result for feature:  13\n",
      "['LSTAT', 'RM', 'TAX', 'PTRATIO', 'AGE', 'B', 'RAD', 'NOX', 'DIS', 'INDUS', 'ZN', 'CRIM', 'CHAS']\n",
      "[25, 21, 18, 10, 5, 5, 5, 4, 3, 3, 3, 3, 3]\n",
      "[6.0720959987828165, 4.6637861551367426, 4.3592884957603424, 4.2757574921713779, 4.1902558926286204, 4.0921745112583841, 4.0851742447087718, 4.1107635709393513, 4.0530584724921832, 4.0239898370781173, 4.1016470153204896, 4.2441094902978103, 5.2101982153157165]\n"
     ]
    }
   ],
   "source": [
    "\n",
    "# enter your code here\n",
    "import copy\n",
    "#the various values of L we want to test\n",
    "l_set = [2]\n",
    "#the various values of K we want to test #assignment only wants us to test k=1 but it works if you do K_test = [1,2,3,4]\n",
    "K_test = [25]\n",
    "#the features we can choose from\n",
    "totalFeatures = ['CRIM', 'ZN', 'INDUS', 'CHAS', 'NOX', 'RM', 'AGE', 'DIS', 'RAD', 'TAX', 'PTRATIO', 'B', 'LSTAT']\n",
    "\n",
    "def Forward_Optimizer(trainingData,trainingTarget,totalFeatures,folds = 10, L=2,k=[1],debug=0,shuffleData=False,verbose=0):\n",
    "    Opt_start_time = time.time()\n",
    "    featurelen = len(totalFeatures)\n",
    "    Final_List = []\n",
    "    Temp_List = []\n",
    "    newFeatureLen = 0\n",
    "    featureCounter = 0\n",
    "    minRMSE = 0.0\n",
    "    k_indicator = []\n",
    "    RMSE_list = []\n",
    "    counterTest = 0\n",
    "    #since there is very little overhead in time (but just in space for each K we want to get, let's just get them all)\n",
    "    maksK = max(K_test)\n",
    "    k_index = 0\n",
    "    \n",
    "\n",
    "    while len(totalFeatures)>0:\n",
    "        featureCounter +=1\n",
    "        counterTest = 0\n",
    "        newFeatureLen = len(totalFeatures)\n",
    "        for feature in totalFeatures:\n",
    "            Final_List.append(feature)                    \n",
    "            avgRMSE = Cross_Validation(trainingData,trainingTarget,features = Final_List,\n",
    "                                       folds = folds,L=L,k=k,debug=debug,shuffleData=shuffleData,verbose=verbose)\n",
    "            k_index = np.argmin(avgRMSE)\n",
    "            if debug==1:\n",
    "                print(Final_List)\n",
    "                print(k_index)\n",
    "                print(avgRMSE)\n",
    "            #reset the minRMSE and other counters\n",
    "            if counterTest ==0:\n",
    "                minRMSE = avgRMSE[k_index]\n",
    "                k_indicator.append(k_index+1)\n",
    "                Temp_List = copy.deepcopy(Final_List)\n",
    "                RMSE_list.append(avgRMSE[k_index])\n",
    "            #test for minimum\n",
    "            if avgRMSE[k_index] < minRMSE:\n",
    "                minRMSE = avgRMSE[k_index]\n",
    "                del k_indicator[-1]\n",
    "                del RMSE_list[-1]\n",
    "                RMSE_list.append(avgRMSE[k_index])\n",
    "                k_indicator.append(k_index+1)\n",
    "                Temp_List = copy.deepcopy(Final_List)\n",
    "            del Final_List[-1] \n",
    "            counterTest += 1\n",
    "        Final_List = copy.deepcopy(Temp_List)\n",
    "        #so we don't iterate through an item we've already selected\n",
    "        totalFeatures.remove(Final_List[-1])\n",
    "        if verbose==1:\n",
    "            print(\"Result for feature: \",featureCounter)\n",
    "            print(Final_List)\n",
    "            print(k_indicator)\n",
    "            print(RMSE_list)\n",
    "    return Final_List,k_indicator,RMSE_list\n",
    "\n",
    "                    \n",
    "            \n",
    "\n",
    "Final_list, k_indicator,RMSE_list = Forward_Optimizer(trainingData,trainingTarget,totalFeatures = totalFeatures,folds = 10, L=2,k=K_test,debug=0,shuffleData=False,verbose=1)\n"
   ]
  },
  {
   "cell_type": "code",
   "execution_count": 104,
   "metadata": {
    "collapsed": false
   },
   "outputs": [
    {
     "data": {
      "image/png": "[encoded data removed]",
      "text/plain": [
       "<matplotlib.figure.Figure at 0x18799268b00>"
      ]
     },
     "metadata": {},
     "output_type": "display_data"
    }
   ],
   "source": [
    "%matplotlib inline\n",
    "\n",
    "fig = plt.figure()\n",
    "ax = plt.gca()\n",
    "\n",
    "plt.title('Forward model selection showing optimal k value, using minimum RMSE, for each added feature')\n",
    "plt.ylabel('RMSE')\n",
    "plt.xlabel('Added Feature')\n",
    "\n",
    "plt.scatter(x=range(1,14),y=RMSE_list,marker='_',color='blue', alpha=0.5, edgecolors='none')\n",
    "\n",
    "\n",
    "# handles, labels = ax.get_legend_handles_labels()\n",
    "# ax.legend(handles, labels)\n",
    "\n",
    "ax.spines['right'].set_visible(False)\n",
    "ax.spines['top'].set_visible(False)\n",
    "plt.tick_params(axis='x',which='both',top='off') # labels along the bottom edge are off\n",
    "plt.tick_params(axis='y',which='both',right='off') # labels along the bottom edge are off\n",
    "\n",
    "# set the locations and labels of the yticks\n",
    "plt.xticks(np.arange(1,14),Final_list, rotation=90 )\n",
    "#add labels to show k values\n",
    "\n",
    "\n",
    "for label, x, y in zip(k_indicator, range(1,14), RMSE_list):\n",
    "    plt.annotate(\n",
    "        str(label),\n",
    "        xy=(x, y), xytext=(0, 5),\n",
    "        textcoords='offset points', ha='center', va='center')\n",
    "\n",
    "\n",
    "\n",
    "plt.show()\n"
   ]
  },
  {
   "cell_type": "code",
   "execution_count": null,
   "metadata": {
    "collapsed": true
   },
   "outputs": [],
   "source": []
  }
 ],
 "metadata": {
  "kernelspec": {
   "display_name": "Python 3",
   "language": "python",
   "name": "python3"
  },
  "language_info": {
   "codemirror_mode": {
    "name": "ipython",
    "version": 3
   },
   "file_extension": ".py",
   "mimetype": "text/x-python",
   "name": "python",
   "nbconvert_exporter": "python",
   "pygments_lexer": "ipython3",
   "version": "3.5.0"
  }
 },
 "nbformat": 4,
 "nbformat_minor": 0
}
